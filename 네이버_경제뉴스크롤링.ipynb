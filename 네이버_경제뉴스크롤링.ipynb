{
  "nbformat": 4,
  "nbformat_minor": 0,
  "metadata": {
    "colab": {
      "provenance": [],
      "authorship_tag": "ABX9TyNZSe3eNETbRm1bH7HDGPk9",
      "include_colab_link": true
    },
    "kernelspec": {
      "name": "python3",
      "display_name": "Python 3"
    },
    "language_info": {
      "name": "python"
    }
  },
  "cells": [
    {
      "cell_type": "markdown",
      "metadata": {
        "id": "view-in-github",
        "colab_type": "text"
      },
      "source": [
        "<a href=\"https://colab.research.google.com/github/DataTak/finacial_data_analysis/blob/main/%EB%84%A4%EC%9D%B4%EB%B2%84_%EA%B2%BD%EC%A0%9C%EB%89%B4%EC%8A%A4%ED%81%AC%EB%A1%A4%EB%A7%81.ipynb\" target=\"_parent\"><img src=\"https://colab.research.google.com/assets/colab-badge.svg\" alt=\"Open In Colab\"/></a>"
      ]
    },
    {
      "cell_type": "markdown",
      "source": [
        "# 네이버 경제뉴스 크롤링\n",
        "- 네이버 증권의 뉴스 탭의 최신 10일치 기사를 수집하여 데이터 프레임으로 생성, 데이터프레임을 article.csv 로 저장하기"
      ],
      "metadata": {
        "id": "gMxQGopdPUYd"
      }
    },
    {
      "cell_type": "markdown",
      "source": [
        "- 네이버 증권 뉴스 탭<br>\n",
        "https://finance.naver.com/news/mainnews.naver?date=2024-10-25\n",
        "- 날짜별로 페이지가 구분되어 있고, 날짜를 변경할 경우, URL의 date의 속성값 변경\n",
        "- 각 날짜에는 페이지네이션으로 페이지가 변경됨 <br>\n",
        "https://financenaver.com/news/mainnews.naver?date=2024-10-25&page=3\n",
        "- 페이지네이션은 고려하지 않고, 첫 페이지에 있는 데이터만 수집\n"
      ],
      "metadata": {
        "id": "0aVdQhHcPUQa"
      }
    },
    {
      "cell_type": "markdown",
      "source": [
        "- 데이터 프레임 구조\n",
        "    - 기사제목 / 본문 URL / 기사본문 / 날짜  로 구성\n",
        "- CSV 파일로 저장시, 인코딩(euc-kr 또는 cp949) 하여 저장할 것"
      ],
      "metadata": {
        "id": "fe44OGNuQPfo"
      }
    },
    {
      "cell_type": "code",
      "execution_count": 69,
      "metadata": {
        "id": "KEqKh4cqPRCD"
      },
      "outputs": [],
      "source": [
        "from bs4 import BeautifulSoup\n",
        "import requests\n",
        "import pandas as pd\n",
        "import time\n",
        "from datetime import datetime, timedelta\n"
      ]
    },
    {
      "cell_type": "code",
      "source": [
        "def extract_article_data(articles):\n",
        "    # 데이터를 저장할 리스트\n",
        "    data = []\n",
        "\n",
        "    # 각 기사의 링크에서 article_id와 office_id를 추출\n",
        "    for article in articles:\n",
        "        a_tag = article.find('a')\n",
        "\n",
        "        if a_tag and 'href' in a_tag.attrs:\n",
        "            href = a_tag['href']\n",
        "\n",
        "            # 필요한 부분 추출 (article_id, office_id)\n",
        "            query_params = href.split('?')[1]  # ? 뒤의 쿼리 파라미터\n",
        "            params = dict(param.split('=') for param in query_params.split('&'))\n",
        "\n",
        "            article_id = params.get('article_id')\n",
        "            office_id = params.get('office_id')\n",
        "\n",
        "\n",
        "            # 최종 URL 생성\n",
        "            final_url = f\"https://n.news.naver.com/mnews/article/{office_id}/{article_id}\"\n",
        "\n",
        "\n",
        "            # 해당 기사 본문 뉴스 가지고 오기\n",
        "            response = requests.get(final_url)\n",
        "            soup = BeautifulSoup(response.text, 'lxml')\n",
        "            article_text = soup.find('div', {'class': 'newsct_article _article_body'}).text.strip()\n",
        "\n",
        "\n",
        "            # 해당 기사 날짜 가지고 오기\n",
        "            news_date = soup.find('span', {'class': 'media_end_head_info_datestamp_time _ARTICLE_DATE_TIME'})['data-date-time']\n",
        "\n",
        "            # 데이터 저장\n",
        "            data.append({\n",
        "                '기사 제목': a_tag.get_text().strip(),\n",
        "                '본문 URL': final_url,\n",
        "                '본문': article_text,\n",
        "                '날짜': news_date\n",
        "            })\n",
        "\n",
        "            time.sleep(0.5)\n",
        "\n",
        "    # 데이터프레임 생성\n",
        "    article_df = pd.DataFrame(data)\n",
        "\n",
        "    return article_df\n"
      ],
      "metadata": {
        "id": "wKTI1eKmUlUJ"
      },
      "execution_count": 74,
      "outputs": []
    },
    {
      "cell_type": "code",
      "source": [
        "# 날짜 입력 받기\n",
        "input_date = '2024-10-25'\n",
        "start_date = datetime.strptime(input_date, '%Y-%m-%d')\n",
        "\n",
        "# 빈 데이터프레임 생성\n",
        "all_articles_df = pd.DataFrame()\n",
        "\n",
        "# 과거 10일간의 뉴스 페이지 가져오기\n",
        "for i in range(10):\n",
        "    # 현재 날짜 계산 (입력 날짜부터 과거로 하루씩 감소)\n",
        "    current_date = start_date - timedelta(days=i)\n",
        "    formatted_date = current_date.strftime('%Y-%m-%d')\n",
        "\n",
        "    # URL에 현재 날짜를 포함시켜 요청\n",
        "    url = f'https://finance.naver.com/news/mainnews.naver?date={formatted_date}'\n",
        "    response = requests.get(url)\n",
        "\n",
        "    # 상태 코드 확인\n",
        "    if response.status_code == 200:\n",
        "        print(f\"{formatted_date} 페이지 접근 성공\")\n",
        "\n",
        "        soup = BeautifulSoup(response.text, 'lxml')\n",
        "        articles = soup.find_all('dd', {'class': 'articleSubject'})\n",
        "\n",
        "        # 데이터 추출\n",
        "        article_df = extract_article_data(articles)\n",
        "\n",
        "        # 날짜별 df 쌓기\n",
        "        all_articles_df = pd.concat([all_articles_df, article_df], ignore_index=True)\n",
        "\n",
        "    else:\n",
        "        print(f\"{formatted_date} 페이지 접근 실패 - 상태 코드: {response.status_code}\")"
      ],
      "metadata": {
        "colab": {
          "base_uri": "https://localhost:8080/"
        },
        "id": "XAXdRHRCZxD-",
        "outputId": "666807ac-ac15-4db9-d986-adb2043e7320"
      },
      "execution_count": 71,
      "outputs": [
        {
          "output_type": "stream",
          "name": "stdout",
          "text": [
            "2024-10-25 페이지 접근 성공\n",
            "2024-10-24 페이지 접근 성공\n",
            "2024-10-23 페이지 접근 성공\n",
            "2024-10-22 페이지 접근 성공\n",
            "2024-10-21 페이지 접근 성공\n",
            "2024-10-20 페이지 접근 성공\n",
            "2024-10-19 페이지 접근 성공\n",
            "2024-10-18 페이지 접근 성공\n",
            "2024-10-17 페이지 접근 성공\n",
            "2024-10-16 페이지 접근 성공\n"
          ]
        }
      ]
    },
    {
      "cell_type": "code",
      "source": [
        "all_articles_df"
      ],
      "metadata": {
        "colab": {
          "base_uri": "https://localhost:8080/",
          "height": 597
        },
        "id": "Oxpi8NsdeAwe",
        "outputId": "9ecfcf05-fe7e-408a-e350-d97ebbf99d9b"
      },
      "execution_count": 72,
      "outputs": [
        {
          "output_type": "execute_result",
          "data": {
            "text/plain": [
              "                                                 기사 제목  \\\n",
              "0                   “찬바람 불길래 믿고 사놨는데”…오를 놈은 따로 있다는 보험주   \n",
              "1                 AI 열풍에도 주가 부진한 국내 IT사…'수혜주가 아니라 피해주'   \n",
              "2              고 이건희 4주기 '삼성 위기론' 속 조용한 추모…이재용 쇄신 카드는?   \n",
              "3                  흑백요리사로 대박 난 백종원…무려 4900억 ‘잭팟’ 터졌다는데   \n",
              "4                        '20만닉스' 컴백한 날…청산가치 밑으로 추락한 삼전   \n",
              "..                                                 ...   \n",
              "195                             수익 악화·감원 … 美보험·약국株 아프다   \n",
              "196  ‘5만전자’ 털썩…ASML發 반도체 된서리 맞은 코스피, 2610대로 후퇴 [투자360]   \n",
              "197               중동 불안에 출렁이는 유가…원유 ETN도 '롤러코스터' [이슈+]   \n",
              "198            세아제강, 회사채 수요예측서 1조 넘게 모아…A급 연이어 흥행[마켓인]   \n",
              "199         외인의 외면…'최장 기록' 26일 연속 순매도에 5만전자 '털썩' [종목+]   \n",
              "\n",
              "                                                본문 URL  \\\n",
              "0    https://n.news.naver.com/mnews/article/009/000...   \n",
              "1    https://n.news.naver.com/mnews/article/015/000...   \n",
              "2    https://n.news.naver.com/mnews/article/057/000...   \n",
              "3    https://n.news.naver.com/mnews/article/009/000...   \n",
              "4    https://n.news.naver.com/mnews/article/015/000...   \n",
              "..                                                 ...   \n",
              "195  https://n.news.naver.com/mnews/article/009/000...   \n",
              "196  https://n.news.naver.com/mnews/article/016/000...   \n",
              "197  https://n.news.naver.com/mnews/article/015/000...   \n",
              "198  https://n.news.naver.com/mnews/article/018/000...   \n",
              "199  https://n.news.naver.com/mnews/article/015/000...   \n",
              "\n",
              "                                                    본문                   날짜  \n",
              "0    \\n\\n계약 해지떄 돌려줄 준비금회계기준 바뀌며 더 필요해소형 보험주 배당여력 타격...  2024-10-25 20:23:07  \n",
              "1    \\n\\n\\n\\n\\n\\n네이버·카카오를 비롯한 국내 인공지능(AI) 관련주 주가가 올...  2024-10-25 20:05:10  \n",
              "2    \\n\\n\\t\\t\\t【 앵커멘트 】  고 이건희 삼성 선대회장의 4주기를 맞아 이재용...  2024-10-25 20:01:07  \n",
              "3    \\n\\n\\n\\n\\n\\n ‘흑백요리사’ 백종원 심사위원. [사진 출처 = 넷플릭스]백...  2024-10-25 18:59:06  \n",
              "4    \\n\\n블랙먼데이 이후 엇갈린 운명외국인, 33거래일 연속 순매도주가, 주당순자산가...  2024-10-25 18:10:20  \n",
              "..                                                 ...                  ...  \n",
              "195  \\n\\n美 최대 보험 유나이티드헬스암울한 실적에 주가 8% 하락대형 드러그스토어 체...  2024-10-16 17:26:09  \n",
              "196  \\n\\n외인·기관 ‘팔자’…삼성전자 등 반도체주 일제히 하락트럼프 당선 가능성 확대...  2024-10-16 17:24:11  \n",
              "197  \\n\\n중동 정세에 국제유가 변동성 확대원유 ETN 수익률도 등락 이어져\"유가 하락...  2024-10-16 17:20:19  \n",
              "198  \\n\\n세아제강, 800억 모집에 1조250억 주문전 트랜치 언더금리서 모집LS·H...  2024-10-16 17:14:14  \n",
              "199  \\n\\n외국인, 26거래일간 11조884억원어치 순매도\\n\\n\\n\\n서울 서초구 삼...  2024-10-16 17:03:14  \n",
              "\n",
              "[200 rows x 4 columns]"
            ],
            "text/html": [
              "\n",
              "  <div id=\"df-e08f5f02-40d5-4d51-b581-aac5704fcb86\" class=\"colab-df-container\">\n",
              "    <div>\n",
              "<style scoped>\n",
              "    .dataframe tbody tr th:only-of-type {\n",
              "        vertical-align: middle;\n",
              "    }\n",
              "\n",
              "    .dataframe tbody tr th {\n",
              "        vertical-align: top;\n",
              "    }\n",
              "\n",
              "    .dataframe thead th {\n",
              "        text-align: right;\n",
              "    }\n",
              "</style>\n",
              "<table border=\"1\" class=\"dataframe\">\n",
              "  <thead>\n",
              "    <tr style=\"text-align: right;\">\n",
              "      <th></th>\n",
              "      <th>기사 제목</th>\n",
              "      <th>본문 URL</th>\n",
              "      <th>본문</th>\n",
              "      <th>날짜</th>\n",
              "    </tr>\n",
              "  </thead>\n",
              "  <tbody>\n",
              "    <tr>\n",
              "      <th>0</th>\n",
              "      <td>“찬바람 불길래 믿고 사놨는데”…오를 놈은 따로 있다는 보험주</td>\n",
              "      <td>https://n.news.naver.com/mnews/article/009/000...</td>\n",
              "      <td>\\n\\n계약 해지떄 돌려줄 준비금회계기준 바뀌며 더 필요해소형 보험주 배당여력 타격...</td>\n",
              "      <td>2024-10-25 20:23:07</td>\n",
              "    </tr>\n",
              "    <tr>\n",
              "      <th>1</th>\n",
              "      <td>AI 열풍에도 주가 부진한 국내 IT사…'수혜주가 아니라 피해주'</td>\n",
              "      <td>https://n.news.naver.com/mnews/article/015/000...</td>\n",
              "      <td>\\n\\n\\n\\n\\n\\n네이버·카카오를 비롯한 국내 인공지능(AI) 관련주 주가가 올...</td>\n",
              "      <td>2024-10-25 20:05:10</td>\n",
              "    </tr>\n",
              "    <tr>\n",
              "      <th>2</th>\n",
              "      <td>고 이건희 4주기 '삼성 위기론' 속 조용한 추모…이재용 쇄신 카드는?</td>\n",
              "      <td>https://n.news.naver.com/mnews/article/057/000...</td>\n",
              "      <td>\\n\\n\\t\\t\\t【 앵커멘트 】  고 이건희 삼성 선대회장의 4주기를 맞아 이재용...</td>\n",
              "      <td>2024-10-25 20:01:07</td>\n",
              "    </tr>\n",
              "    <tr>\n",
              "      <th>3</th>\n",
              "      <td>흑백요리사로 대박 난 백종원…무려 4900억 ‘잭팟’ 터졌다는데</td>\n",
              "      <td>https://n.news.naver.com/mnews/article/009/000...</td>\n",
              "      <td>\\n\\n\\n\\n\\n\\n ‘흑백요리사’ 백종원 심사위원. [사진 출처 = 넷플릭스]백...</td>\n",
              "      <td>2024-10-25 18:59:06</td>\n",
              "    </tr>\n",
              "    <tr>\n",
              "      <th>4</th>\n",
              "      <td>'20만닉스' 컴백한 날…청산가치 밑으로 추락한 삼전</td>\n",
              "      <td>https://n.news.naver.com/mnews/article/015/000...</td>\n",
              "      <td>\\n\\n블랙먼데이 이후 엇갈린 운명외국인, 33거래일 연속 순매도주가, 주당순자산가...</td>\n",
              "      <td>2024-10-25 18:10:20</td>\n",
              "    </tr>\n",
              "    <tr>\n",
              "      <th>...</th>\n",
              "      <td>...</td>\n",
              "      <td>...</td>\n",
              "      <td>...</td>\n",
              "      <td>...</td>\n",
              "    </tr>\n",
              "    <tr>\n",
              "      <th>195</th>\n",
              "      <td>수익 악화·감원 … 美보험·약국株 아프다</td>\n",
              "      <td>https://n.news.naver.com/mnews/article/009/000...</td>\n",
              "      <td>\\n\\n美 최대 보험 유나이티드헬스암울한 실적에 주가 8% 하락대형 드러그스토어 체...</td>\n",
              "      <td>2024-10-16 17:26:09</td>\n",
              "    </tr>\n",
              "    <tr>\n",
              "      <th>196</th>\n",
              "      <td>‘5만전자’ 털썩…ASML發 반도체 된서리 맞은 코스피, 2610대로 후퇴 [투자360]</td>\n",
              "      <td>https://n.news.naver.com/mnews/article/016/000...</td>\n",
              "      <td>\\n\\n외인·기관 ‘팔자’…삼성전자 등 반도체주 일제히 하락트럼프 당선 가능성 확대...</td>\n",
              "      <td>2024-10-16 17:24:11</td>\n",
              "    </tr>\n",
              "    <tr>\n",
              "      <th>197</th>\n",
              "      <td>중동 불안에 출렁이는 유가…원유 ETN도 '롤러코스터' [이슈+]</td>\n",
              "      <td>https://n.news.naver.com/mnews/article/015/000...</td>\n",
              "      <td>\\n\\n중동 정세에 국제유가 변동성 확대원유 ETN 수익률도 등락 이어져\"유가 하락...</td>\n",
              "      <td>2024-10-16 17:20:19</td>\n",
              "    </tr>\n",
              "    <tr>\n",
              "      <th>198</th>\n",
              "      <td>세아제강, 회사채 수요예측서 1조 넘게 모아…A급 연이어 흥행[마켓인]</td>\n",
              "      <td>https://n.news.naver.com/mnews/article/018/000...</td>\n",
              "      <td>\\n\\n세아제강, 800억 모집에 1조250억 주문전 트랜치 언더금리서 모집LS·H...</td>\n",
              "      <td>2024-10-16 17:14:14</td>\n",
              "    </tr>\n",
              "    <tr>\n",
              "      <th>199</th>\n",
              "      <td>외인의 외면…'최장 기록' 26일 연속 순매도에 5만전자 '털썩' [종목+]</td>\n",
              "      <td>https://n.news.naver.com/mnews/article/015/000...</td>\n",
              "      <td>\\n\\n외국인, 26거래일간 11조884억원어치 순매도\\n\\n\\n\\n서울 서초구 삼...</td>\n",
              "      <td>2024-10-16 17:03:14</td>\n",
              "    </tr>\n",
              "  </tbody>\n",
              "</table>\n",
              "<p>200 rows × 4 columns</p>\n",
              "</div>\n",
              "    <div class=\"colab-df-buttons\">\n",
              "\n",
              "  <div class=\"colab-df-container\">\n",
              "    <button class=\"colab-df-convert\" onclick=\"convertToInteractive('df-e08f5f02-40d5-4d51-b581-aac5704fcb86')\"\n",
              "            title=\"Convert this dataframe to an interactive table.\"\n",
              "            style=\"display:none;\">\n",
              "\n",
              "  <svg xmlns=\"http://www.w3.org/2000/svg\" height=\"24px\" viewBox=\"0 -960 960 960\">\n",
              "    <path d=\"M120-120v-720h720v720H120Zm60-500h600v-160H180v160Zm220 220h160v-160H400v160Zm0 220h160v-160H400v160ZM180-400h160v-160H180v160Zm440 0h160v-160H620v160ZM180-180h160v-160H180v160Zm440 0h160v-160H620v160Z\"/>\n",
              "  </svg>\n",
              "    </button>\n",
              "\n",
              "  <style>\n",
              "    .colab-df-container {\n",
              "      display:flex;\n",
              "      gap: 12px;\n",
              "    }\n",
              "\n",
              "    .colab-df-convert {\n",
              "      background-color: #E8F0FE;\n",
              "      border: none;\n",
              "      border-radius: 50%;\n",
              "      cursor: pointer;\n",
              "      display: none;\n",
              "      fill: #1967D2;\n",
              "      height: 32px;\n",
              "      padding: 0 0 0 0;\n",
              "      width: 32px;\n",
              "    }\n",
              "\n",
              "    .colab-df-convert:hover {\n",
              "      background-color: #E2EBFA;\n",
              "      box-shadow: 0px 1px 2px rgba(60, 64, 67, 0.3), 0px 1px 3px 1px rgba(60, 64, 67, 0.15);\n",
              "      fill: #174EA6;\n",
              "    }\n",
              "\n",
              "    .colab-df-buttons div {\n",
              "      margin-bottom: 4px;\n",
              "    }\n",
              "\n",
              "    [theme=dark] .colab-df-convert {\n",
              "      background-color: #3B4455;\n",
              "      fill: #D2E3FC;\n",
              "    }\n",
              "\n",
              "    [theme=dark] .colab-df-convert:hover {\n",
              "      background-color: #434B5C;\n",
              "      box-shadow: 0px 1px 3px 1px rgba(0, 0, 0, 0.15);\n",
              "      filter: drop-shadow(0px 1px 2px rgba(0, 0, 0, 0.3));\n",
              "      fill: #FFFFFF;\n",
              "    }\n",
              "  </style>\n",
              "\n",
              "    <script>\n",
              "      const buttonEl =\n",
              "        document.querySelector('#df-e08f5f02-40d5-4d51-b581-aac5704fcb86 button.colab-df-convert');\n",
              "      buttonEl.style.display =\n",
              "        google.colab.kernel.accessAllowed ? 'block' : 'none';\n",
              "\n",
              "      async function convertToInteractive(key) {\n",
              "        const element = document.querySelector('#df-e08f5f02-40d5-4d51-b581-aac5704fcb86');\n",
              "        const dataTable =\n",
              "          await google.colab.kernel.invokeFunction('convertToInteractive',\n",
              "                                                    [key], {});\n",
              "        if (!dataTable) return;\n",
              "\n",
              "        const docLinkHtml = 'Like what you see? Visit the ' +\n",
              "          '<a target=\"_blank\" href=https://colab.research.google.com/notebooks/data_table.ipynb>data table notebook</a>'\n",
              "          + ' to learn more about interactive tables.';\n",
              "        element.innerHTML = '';\n",
              "        dataTable['output_type'] = 'display_data';\n",
              "        await google.colab.output.renderOutput(dataTable, element);\n",
              "        const docLink = document.createElement('div');\n",
              "        docLink.innerHTML = docLinkHtml;\n",
              "        element.appendChild(docLink);\n",
              "      }\n",
              "    </script>\n",
              "  </div>\n",
              "\n",
              "\n",
              "<div id=\"df-d7f4982a-a9f7-482e-a0ad-dce5d228a26d\">\n",
              "  <button class=\"colab-df-quickchart\" onclick=\"quickchart('df-d7f4982a-a9f7-482e-a0ad-dce5d228a26d')\"\n",
              "            title=\"Suggest charts\"\n",
              "            style=\"display:none;\">\n",
              "\n",
              "<svg xmlns=\"http://www.w3.org/2000/svg\" height=\"24px\"viewBox=\"0 0 24 24\"\n",
              "     width=\"24px\">\n",
              "    <g>\n",
              "        <path d=\"M19 3H5c-1.1 0-2 .9-2 2v14c0 1.1.9 2 2 2h14c1.1 0 2-.9 2-2V5c0-1.1-.9-2-2-2zM9 17H7v-7h2v7zm4 0h-2V7h2v10zm4 0h-2v-4h2v4z\"/>\n",
              "    </g>\n",
              "</svg>\n",
              "  </button>\n",
              "\n",
              "<style>\n",
              "  .colab-df-quickchart {\n",
              "      --bg-color: #E8F0FE;\n",
              "      --fill-color: #1967D2;\n",
              "      --hover-bg-color: #E2EBFA;\n",
              "      --hover-fill-color: #174EA6;\n",
              "      --disabled-fill-color: #AAA;\n",
              "      --disabled-bg-color: #DDD;\n",
              "  }\n",
              "\n",
              "  [theme=dark] .colab-df-quickchart {\n",
              "      --bg-color: #3B4455;\n",
              "      --fill-color: #D2E3FC;\n",
              "      --hover-bg-color: #434B5C;\n",
              "      --hover-fill-color: #FFFFFF;\n",
              "      --disabled-bg-color: #3B4455;\n",
              "      --disabled-fill-color: #666;\n",
              "  }\n",
              "\n",
              "  .colab-df-quickchart {\n",
              "    background-color: var(--bg-color);\n",
              "    border: none;\n",
              "    border-radius: 50%;\n",
              "    cursor: pointer;\n",
              "    display: none;\n",
              "    fill: var(--fill-color);\n",
              "    height: 32px;\n",
              "    padding: 0;\n",
              "    width: 32px;\n",
              "  }\n",
              "\n",
              "  .colab-df-quickchart:hover {\n",
              "    background-color: var(--hover-bg-color);\n",
              "    box-shadow: 0 1px 2px rgba(60, 64, 67, 0.3), 0 1px 3px 1px rgba(60, 64, 67, 0.15);\n",
              "    fill: var(--button-hover-fill-color);\n",
              "  }\n",
              "\n",
              "  .colab-df-quickchart-complete:disabled,\n",
              "  .colab-df-quickchart-complete:disabled:hover {\n",
              "    background-color: var(--disabled-bg-color);\n",
              "    fill: var(--disabled-fill-color);\n",
              "    box-shadow: none;\n",
              "  }\n",
              "\n",
              "  .colab-df-spinner {\n",
              "    border: 2px solid var(--fill-color);\n",
              "    border-color: transparent;\n",
              "    border-bottom-color: var(--fill-color);\n",
              "    animation:\n",
              "      spin 1s steps(1) infinite;\n",
              "  }\n",
              "\n",
              "  @keyframes spin {\n",
              "    0% {\n",
              "      border-color: transparent;\n",
              "      border-bottom-color: var(--fill-color);\n",
              "      border-left-color: var(--fill-color);\n",
              "    }\n",
              "    20% {\n",
              "      border-color: transparent;\n",
              "      border-left-color: var(--fill-color);\n",
              "      border-top-color: var(--fill-color);\n",
              "    }\n",
              "    30% {\n",
              "      border-color: transparent;\n",
              "      border-left-color: var(--fill-color);\n",
              "      border-top-color: var(--fill-color);\n",
              "      border-right-color: var(--fill-color);\n",
              "    }\n",
              "    40% {\n",
              "      border-color: transparent;\n",
              "      border-right-color: var(--fill-color);\n",
              "      border-top-color: var(--fill-color);\n",
              "    }\n",
              "    60% {\n",
              "      border-color: transparent;\n",
              "      border-right-color: var(--fill-color);\n",
              "    }\n",
              "    80% {\n",
              "      border-color: transparent;\n",
              "      border-right-color: var(--fill-color);\n",
              "      border-bottom-color: var(--fill-color);\n",
              "    }\n",
              "    90% {\n",
              "      border-color: transparent;\n",
              "      border-bottom-color: var(--fill-color);\n",
              "    }\n",
              "  }\n",
              "</style>\n",
              "\n",
              "  <script>\n",
              "    async function quickchart(key) {\n",
              "      const quickchartButtonEl =\n",
              "        document.querySelector('#' + key + ' button');\n",
              "      quickchartButtonEl.disabled = true;  // To prevent multiple clicks.\n",
              "      quickchartButtonEl.classList.add('colab-df-spinner');\n",
              "      try {\n",
              "        const charts = await google.colab.kernel.invokeFunction(\n",
              "            'suggestCharts', [key], {});\n",
              "      } catch (error) {\n",
              "        console.error('Error during call to suggestCharts:', error);\n",
              "      }\n",
              "      quickchartButtonEl.classList.remove('colab-df-spinner');\n",
              "      quickchartButtonEl.classList.add('colab-df-quickchart-complete');\n",
              "    }\n",
              "    (() => {\n",
              "      let quickchartButtonEl =\n",
              "        document.querySelector('#df-d7f4982a-a9f7-482e-a0ad-dce5d228a26d button');\n",
              "      quickchartButtonEl.style.display =\n",
              "        google.colab.kernel.accessAllowed ? 'block' : 'none';\n",
              "    })();\n",
              "  </script>\n",
              "</div>\n",
              "\n",
              "  <div id=\"id_b18e75a3-b90c-4fa1-969a-f21889493e05\">\n",
              "    <style>\n",
              "      .colab-df-generate {\n",
              "        background-color: #E8F0FE;\n",
              "        border: none;\n",
              "        border-radius: 50%;\n",
              "        cursor: pointer;\n",
              "        display: none;\n",
              "        fill: #1967D2;\n",
              "        height: 32px;\n",
              "        padding: 0 0 0 0;\n",
              "        width: 32px;\n",
              "      }\n",
              "\n",
              "      .colab-df-generate:hover {\n",
              "        background-color: #E2EBFA;\n",
              "        box-shadow: 0px 1px 2px rgba(60, 64, 67, 0.3), 0px 1px 3px 1px rgba(60, 64, 67, 0.15);\n",
              "        fill: #174EA6;\n",
              "      }\n",
              "\n",
              "      [theme=dark] .colab-df-generate {\n",
              "        background-color: #3B4455;\n",
              "        fill: #D2E3FC;\n",
              "      }\n",
              "\n",
              "      [theme=dark] .colab-df-generate:hover {\n",
              "        background-color: #434B5C;\n",
              "        box-shadow: 0px 1px 3px 1px rgba(0, 0, 0, 0.15);\n",
              "        filter: drop-shadow(0px 1px 2px rgba(0, 0, 0, 0.3));\n",
              "        fill: #FFFFFF;\n",
              "      }\n",
              "    </style>\n",
              "    <button class=\"colab-df-generate\" onclick=\"generateWithVariable('all_articles_df')\"\n",
              "            title=\"Generate code using this dataframe.\"\n",
              "            style=\"display:none;\">\n",
              "\n",
              "  <svg xmlns=\"http://www.w3.org/2000/svg\" height=\"24px\"viewBox=\"0 0 24 24\"\n",
              "       width=\"24px\">\n",
              "    <path d=\"M7,19H8.4L18.45,9,17,7.55,7,17.6ZM5,21V16.75L18.45,3.32a2,2,0,0,1,2.83,0l1.4,1.43a1.91,1.91,0,0,1,.58,1.4,1.91,1.91,0,0,1-.58,1.4L9.25,21ZM18.45,9,17,7.55Zm-12,3A5.31,5.31,0,0,0,4.9,8.1,5.31,5.31,0,0,0,1,6.5,5.31,5.31,0,0,0,4.9,4.9,5.31,5.31,0,0,0,6.5,1,5.31,5.31,0,0,0,8.1,4.9,5.31,5.31,0,0,0,12,6.5,5.46,5.46,0,0,0,6.5,12Z\"/>\n",
              "  </svg>\n",
              "    </button>\n",
              "    <script>\n",
              "      (() => {\n",
              "      const buttonEl =\n",
              "        document.querySelector('#id_b18e75a3-b90c-4fa1-969a-f21889493e05 button.colab-df-generate');\n",
              "      buttonEl.style.display =\n",
              "        google.colab.kernel.accessAllowed ? 'block' : 'none';\n",
              "\n",
              "      buttonEl.onclick = () => {\n",
              "        google.colab.notebook.generateWithVariable('all_articles_df');\n",
              "      }\n",
              "      })();\n",
              "    </script>\n",
              "  </div>\n",
              "\n",
              "    </div>\n",
              "  </div>\n"
            ],
            "application/vnd.google.colaboratory.intrinsic+json": {
              "type": "dataframe",
              "variable_name": "all_articles_df",
              "summary": "{\n  \"name\": \"all_articles_df\",\n  \"rows\": 200,\n  \"fields\": [\n    {\n      \"column\": \"\\uae30\\uc0ac \\uc81c\\ubaa9\",\n      \"properties\": {\n        \"dtype\": \"string\",\n        \"num_unique_values\": 200,\n        \"samples\": [\n          \"\\uace0\\ub824\\uc544\\uc5f0 \\uae30\\uc0ac\\ud68c\\uc0dd\\u2026\\ub354 \\uce58\\uc5f4\\ud574\\uc9c4 \\uc9c0\\ubd84\\uc2f8\\uc6c0\",\n          \"\\uc99d\\uad8c\\uc0ac 9\\uacf3\\uc774 \\ubaa9\\ud45c\\uac00 \\ub192\\uc600\\ub2e4...KB\\uae08\\uc735, \\ubc38\\ub958\\uc5c5 \\ud638\\ud3c9\\uc5d0 8% \\uc0c1\\uc2b9\",\n          \"\\\"\\uacc4\\uc0b0 \\ucc29\\uc624, 38\\uc5b5 \\ub3cc\\ub824\\uc8fc\\uc138\\uc694\\\"... \\ubc30\\ub2f9\\uae08 \\ud1a0\\ud558\\ub77c\\ub294 \\ucf54\\uc2a4\\ud53c \\uc0c1\\uc7a5\\uc0ac\"\n        ],\n        \"semantic_type\": \"\",\n        \"description\": \"\"\n      }\n    },\n    {\n      \"column\": \"\\ubcf8\\ubb38 URL\",\n      \"properties\": {\n        \"dtype\": \"string\",\n        \"num_unique_values\": 200,\n        \"samples\": [\n          \"https://n.news.naver.com/mnews/article/009/0005382916\",\n          \"https://n.news.naver.com/mnews/article/014/0005258553\",\n          \"https://n.news.naver.com/mnews/article/469/0000829584\"\n        ],\n        \"semantic_type\": \"\",\n        \"description\": \"\"\n      }\n    },\n    {\n      \"column\": \"\\ubcf8\\ubb38\",\n      \"properties\": {\n        \"dtype\": \"string\",\n        \"num_unique_values\": 200,\n        \"samples\": [\n          \"\\n\\n\\uc601\\ud48d\\uce21 \\uac00\\ucc98\\ubd84\\uc2e0\\uccad \\ub610 \\uae30\\uac01\\ucd5c\\uc724\\ubc94\\uce21 \\uacf5\\uac1c\\ub9e4\\uc218 \\uae38\\uc5f4\\ub824\\uace0\\ub824\\uc544\\uc5f0 \\uc8fc\\uac00 \\ud558\\ub8e8 6% \\uae09\\ub4f1\\ubc31\\uae30\\uc0ac \\ud655\\ubcf4\\uc5d0 \\ud0c4\\ub825\\ubc1b\\uc744 \\ub4ef\\uc601\\ud48d \\\"\\ucc45\\uc784 \\ub05d\\uae4c\\uc9c0 \\ubb3c\\uc744 \\uacc4\\ud68d\\\"\\uc8fc\\ucd1d\\uae4c\\uc9c0 \\ubd84\\uc7c1 \\uc7a5\\uae30\\ud654 \\ubd88\\uac00\\ud53c\\n\\n\\n\\nMBK\\ud30c\\ud2b8\\ub108\\uc2a4\\u00b7\\uc601\\ud48d\\uc774 \\uc81c\\uae30\\ud55c \\uace0\\ub824\\uc544\\uc5f0\\uc758 \\uc790\\uc0ac\\uc8fc \\uacf5\\uac1c\\ub9e4\\uc218 \\uae08\\uc9c0 \\uac00\\ucc98\\ubd84 \\uc2e0\\uccad\\uc774 21\\uc77c \\ub610\\ub2e4\\uc2dc \\ubc95\\uc6d0\\uc5d0\\uc11c \\uae30\\uac01\\ub410\\ub2e4. \\uace0\\ub824\\uc544\\uc5f0\\uc774 \\uc608\\uc815\\ub300\\ub85c \\uacf5\\uac1c\\ub9e4\\uc218\\ub97c \\uc9c4\\ud589\\ud560 \\uc218 \\uc788\\uac8c \\ub418\\uba74\\uc11c \\uc591\\uce21\\uc758 \\uacbd\\uc601\\uad8c \\ubd84\\uc7c1\\uc740 \\uc7a5\\uae30\\ud654\\ub420 \\uac83\\uc73c\\ub85c \\uc804\\ub9dd\\ub41c\\ub2e4. \\uc774\\ub0a0 \\uc601\\ud48d\\uc815\\ubc00 \\uacf5\\uac1c\\ub9e4\\uc218\\ub97c \\ud1b5\\ud574 \\uace0\\ub824\\uc544\\uc5f0 \\uc9c0\\ubd84 1.85%\\ub97c \\uc9c0\\ucf1c\\ub0b8 \\ucd5c\\uc724\\ubc94 \\uace0\\ub824\\uc544\\uc5f0 \\ud68c\\uc7a5\\uc774 \\ucd94\\uac00\\uc801\\uc778 \\uc758\\uacb0\\uad8c \\ud655\\ub300\\ub97c \\uc704\\ud55c \\ud2b9\\ub2e8\\uc758 \\uc870\\uce58\\ub97c \\ub0b4\\ub193\\uc744\\uc9c0\\ub3c4 \\uc8fc\\ubaa9\\ub41c\\ub2e4.\\ub2e4\\ub9cc \\uae08\\uc735\\ub2f9\\uad6d\\uc774 \\uc774\\ubc88 \\uacf5\\uac1c\\ub9e4\\uc218 \\uacfc\\uc815\\uc5d0\\uc11c \\uc591\\uce21\\uc758 \\ubd88\\uacf5\\uc815 \\ud589\\uc704\\uc5d0 \\ub300\\ud574 \\uba74\\ubc00\\ud55c \\uac80\\ud1a0\\uc5d0 \\ub4e4\\uc5b4\\uac04 \\ub9cc\\ud07c, \\ucd5c\\uc885 \\uacb0\\uacfc\\ub294 \\ud55c \\uce58 \\uc55e\\uc744 \\uc608\\uc0c1\\ud560 \\uc218 \\uc5c6\\ub294 \\uc0c1\\ud0dc\\ub2e4.\\uc11c\\uc6b8\\uc911\\uc559\\uc9c0\\ubc95 \\ubbfc\\uc0ac\\ud569\\uc75850\\ubd80(\\uc7ac\\ud310\\uc7a5 \\uae40\\uc0c1\\ud6c8)\\ub294 \\uc774\\ub0a0 \\uc601\\ud48d\\uc774 \\ucd5c \\ud68c\\uc7a5, \\ubc15\\uae30\\ub355\\u00b7\\uc815\\ud0dc\\uc6c5 \\ub300\\ud45c\\uc774\\uc0ac\\ub97c \\uc0c1\\ub300\\ub85c \\ub0b8 \\uc790\\uae30\\uc8fc\\uc2dd \\ucde8\\ub4dd\\uae08\\uc9c0 \\uac00\\ucc98\\ubd84 \\uc2e0\\uccad\\uc744 \\uae30\\uac01\\ud588\\ub2e4. \\uc774\\uc5d0 \\uace0\\ub824\\uc544\\uc5f0\\uc740 23\\uc77c\\uae4c\\uc9c0 \\uc9c4\\ud589\\ud558\\ub294 \\uc790\\uc0ac\\uc8fc \\uacf5\\uac1c\\ub9e4\\uc218\\ub97c \\uc608\\uc815\\ub300\\ub85c \\ud560 \\uc218 \\uc788\\uac8c \\ub410\\ub2e4.\\uc55e\\uc11c \\ucd5c \\ud68c\\uc7a5 \\uce21\\uc774 \\ub300\\ud56d \\uacf5\\uac1c\\ub9e4\\uc218\\uc5d0 \\ub098\\uc11c\\uba70 \\ucc28\\uc785 \\ub4f1\\uc744 \\ud1b5\\ud574 \\uc790\\uc0ac\\uc8fc\\ub97c \\uc8fc\\ub2f9 89\\ub9cc\\uc6d0\\uc5d0 \\uc0ac\\ub4e4\\uc778\\ub2e4\\uace0 \\ud558\\uc790 \\uc601\\ud48d\\uc740 \\ud68c\\uc0ac\\uc5d0 \\uc190\\ud574\\ub97c \\ub07c\\uce58\\ub294 \\ubc30\\uc784 \\ud589\\uc704\\ub77c\\uba70 \\uc790\\uc0ac\\uc8fc \\ub9e4\\uc785 \\uae08\\uc9c0 \\uac00\\ucc98\\ubd84\\uc744 \\uc2e0\\uccad\\ud588\\ub2e4. \\uc8fc\\uc8fc\\ucd1d\\ud68c \\uc758\\uacb0\\uc744 \\uac70\\uce58\\uc9c0 \\uc54a\\uace0 \\uc790\\uc0ac\\uc8fc \\ub9e4\\uc785\\uc5d0 \\ud68c\\uc0ac\\uac00 \\uc313\\uc544\\uc628 \\uc784\\uc758\\uc801\\ub9bd\\uae08\\uc744 \\ud65c\\uc6a9\\ud574\\uc120 \\uc548 \\ub41c\\ub2e4\\uace0 \\uc8fc\\uc7a5\\ud588\\ub2e4.\\uadf8\\ub7ec\\ub098 \\uc7ac\\ud310\\ubd80\\ub294 \\\"\\uc601\\ud48d\\uc774 \\uc120\\ud589 \\uacf5\\uac1c\\ub9e4\\uc218 \\uacfc\\uc815\\uc5d0\\uc11c \\ub9e4\\uc218\\uac00\\uaca9\\uc744 \\ucd5c\\ucd08 66\\ub9cc\\uc6d0\\uc5d0\\uc11c 83\\ub9cc\\uc6d0\\uae4c\\uc9c0 \\uc778\\uc0c1\\ud574 \\uace0\\ub824\\uc544\\uc5f0\\uc758 \\uc801\\uc815 \\uc8fc\\uac00\\ub97c \\ud604 \\ub2e8\\uacc4\\uc5d0\\uc11c \\uba85\\ud655\\ud558\\uac8c \\uc0b0\\uc815\\ud558\\uae30 \\uc5b4\\ub835\\ub2e4\\\"\\uba70 \\\"\\uc0c1\\ubc95 \\uc81c341\\uc870 \\uc81c1\\ud56d \\ub2e8\\uc11c\\ub294 \\ucc28\\uc785\\uae08\\uc73c\\ub85c \\uc790\\uae30\\uc8fc\\uc2dd\\uc744 \\ucde8\\ub4dd\\ud558\\ub294 \\uac83\\uc774 \\ud5c8\\uc6a9\\ub418\\uc9c0 \\uc54a\\ub294\\ub2e4\\ub294 \\uc758\\ubbf8\\uac00 \\uc544\\ub2c8\\ub2e4\\\"\\uace0 \\ud310\\ub2e8\\ud588\\ub2e4.\\uc784\\uc758\\uc801\\ub9bd\\uae08\\uc5d0 \\ub300\\ud574\\uc11c\\ub3c4 \\\"\\uc790\\ubcf8\\uc2dc\\uc7a5\\ubc95 \\ubc0f \\uc0ac\\ubc95\\uaddc\\uc815 \\uc5b4\\ub514\\uc5d0\\ub3c4 \\uc790\\uae30\\uc8fc\\uc2dd\\ucde8\\ub4dd\\uac00\\uc561 \\ud55c\\ub3c4\\ub97c \\uacc4\\uc0b0\\ud560 \\ub54c \\uc784\\uc758\\uc900\\ube44\\uae08\\uc744 \\uacf5\\uc81c\\ud574\\uc57c \\ud55c\\ub2e4\\ub294 \\ucde8\\uc9c0\\uc758 \\uaddc\\uc815\\uc740 \\uc874\\uc7ac\\ud558\\uc9c0 \\uc54a\\ub294\\ub2e4\\\"\\uace0 \\uc9c0\\uc801\\ud588\\ub2e4.\\ud55c\\ud3b8 \\ucd5c \\ud68c\\uc7a5 \\uce21\\uc740 \\uc774\\ub0a0 \\uc885\\ub8cc\\ub41c \\uc601\\ud48d\\uc815\\ubc00 \\uacf5\\uac1c\\ub9e4\\uc218\\ub97c \\ud1b5\\ud574 \\ubb34\\ub09c\\ud788 \\uacbd\\uc601\\uad8c\\uc744 \\ubc29\\uc5b4\\ud558\\uba70 \\uc774 \\ud68c\\uc0ac\\uac00 \\uc18c\\uc720\\ud55c \\uace0\\ub824\\uc544\\uc5f0 \\uc9c0\\ubd84 1.85%\\ub97c \\uc9c0\\ucf1c\\ub0c8\\uc744 \\uac83\\uc73c\\ub85c \\ubcf4\\uc778\\ub2e4.\\uc774\\ub0a0 \\uc601\\ud48d\\uc815\\ubc00 \\uc8fc\\uac00\\ub294 9.71% \\uc624\\ub978 2\\ub9cc4850\\uc6d0\\uc73c\\ub85c \\ub9c8\\uac10\\ud558\\uba70 \\ucd5c \\ud68c\\uc7a5 \\uce21 \\uacf5\\uac1c\\ub9e4\\uc218\\uac00\\uc778 3\\ub9cc5000\\uc6d0\\uc744 \\ud06c\\uac8c \\ubc11\\ub3cc\\uc558\\ub2e4. \\uace0\\ub824\\uc544\\uc5f0 \\uc8fc\\uac00\\ub294 6.43% \\uc624\\ub978 87\\ub9cc7000\\uc6d0\\uae4c\\uc9c0 \\uc62c\\ub790\\uc9c0\\ub9cc \\uc5ec\\uc804\\ud788 \\uacf5\\uac1c\\ub9e4\\uc218\\uac00\\uc778 89\\ub9cc\\uc6d0 \\uc544\\ub798\\ub97c \\uc720\\uc9c0\\ud588\\ub2e4. \\ucd5c \\ud68c\\uc7a5 \\uce21\\uc774 \\uace0\\ub824\\uc544\\uc5f0 \\uc790\\uc0ac\\uc8fc \\ucde8\\ub4dd\\uae08\\uc9c0 \\uac00\\ucc98\\ubd84 \\uae30\\uac01\\uacfc \\uc601\\ud48d\\uc815\\ubc00 \\uacf5\\uac1c\\ub9e4\\uc218 \\uc2b9\\ub9ac\\ub97c \\ud1b5\\ud574 \\uc7ac\\ucc28 \\ubc18\\uaca9\\uc5d0 \\ub098\\uc11c\\uba74\\uc11c \\uace0\\ub824\\uc544\\uc5f0 \\uacbd\\uc601\\uad8c \\ubd84\\uc7c1\\uc740 \\uc7a5\\uae30\\uc804\\uc5d0 \\ub4e4\\uc5b4\\uac08 \\uac83\\uc73c\\ub85c \\uc608\\uc0c1\\ub41c\\ub2e4.\\ucd5c \\ud68c\\uc7a5 \\uce21\\uc740 MBK\\u00b7\\uc601\\ud48d \\uce21\\uacfc \\uc9c0\\ubd84 \\uaca9\\ucc28\\ub97c 1%\\ud3ec\\uc778\\ud2b8 \\uc548\\ud30e\\uae4c\\uc9c0 \\uc881\\ud790 \\uc218 \\uc788\\ub2e4. \\uc774\\ubc88 \\uace0\\ub824\\uc544\\uc5f0 \\uacf5\\uac1c\\ub9e4\\uc218\\ub97c \\ud1b5\\ud574 \\ud611\\ub825\\uad00\\uacc4\\uc778 \\ubca0\\uc778\\uce90\\ud53c\\ud0c8\\uc774 \\ucd5c\\ub300\\uce58\\uc778 2.5%\\ub97c \\ud68d\\ub4dd\\ud558\\uace0, \\ucc98\\ubd84 \\uac00\\ub2a5\\ud55c \\uc790\\uc0ac\\uc8fc 1.4%\\ub97c \\ud1b5\\ud574 \\uc758\\uacb0\\uad8c\\uc744 \\uc0b4\\ub9b0\\ub2e4\\uace0 \\uac00\\uc815\\ud588\\uc744 \\uacbd\\uc6b0\\ub2e4. \\uae30\\uc874 \\ucd5c\\uc528 \\uc77c\\uac00\\uc640 \\ub300\\uae30\\uc5c5 \\ub4f1\\uc774 \\ubcf4\\uc720\\ud55c \\uc6b0\\ud638\\uc9c0\\ubd84\\uc744 \\ub354\\ud558\\uba74 33.99%\\uc778\\ub370, \\ud5a5\\ud6c4 \\uc9c0\\ubd84\\uc740 37.89%\\uae4c\\uc9c0 \\uc62c\\ub77c\\uac08 \\uc218 \\uc788\\ub2e4. \\ubc18\\uba74 MBK\\u00b7\\uc601\\ud48d\\uc740 \\uc774\\ubbf8 \\uacf5\\uac1c\\ub9e4\\uc218\\ub97c \\ud1b5\\ud574 38.47%, \\uc758\\uacb0\\uad8c \\uae30\\uc900\\uc73c\\ub85c\\ub294 40% \\uc774\\uc0c1 \\uace0\\ub824\\uc544\\uc5f0 \\uc9c0\\ubd84\\uc744 \\ud655\\ubcf4\\ud588\\ub2e4. \\uc9c0\\ubd84\\uc5d0\\uc11c \\uc55e\\uc120 \\ub9cc\\ud07c \\uc774\\ub978 \\uc2dc\\uc77c \\uc548\\uc5d0 \\uc784\\uc2dc \\uc8fc\\ucd1d\\uc744 \\uc2e0\\uccad\\ud558\\uba70 \\uc774\\uc0ac\\ud68c \\uc7a5\\uc545\\uc744 \\uc2dc\\ub3c4\\ud560 \\uac83\\uc73c\\ub85c \\uc608\\uc0c1\\ub41c\\ub2e4.\\uc591\\uce21\\uc740 \\uc774\\ub0a0 \\ud310\\uacb0 \\uacb0\\uacfc\\uc5d0 \\ub300\\ud574 \\ucd94\\uac00\\uc801\\uc778 \\ubc95\\uc815 \\ub2e4\\ud23c\\uc744 \\uc608\\uace0\\ud588\\ub2e4. \\uace0\\ub824\\uc544\\uc5f0\\uc740 \\uc785\\uc7a5\\ubb38\\uc744 \\ub0b4\\uace0 \\\"\\uc790\\uc0ac\\uc8fc \\uacf5\\uac1c\\ub9e4\\uc218\\ub97c \\ubc29\\ud574\\ud558\\uae30 \\uc704\\ud574 \\uc2dc\\uc138\\uc870\\uc885 \\ubc0f \\uc0ac\\uae30\\uc801 \\ubd80\\uc815\\uac70\\ub798 \\ub4f1 \\uc2dc\\uc7a5 \\uad50\\ub780\\ud589\\uc704\\ub97c \\uc77c\\uc73c\\ud0a8 \\ub9cc\\ud07c \\uc774\\uc5d0 \\ub300\\ud55c \\ubc95\\uc801 \\ucc45\\uc784\\uc744 \\ud53c\\ud574\\uac08 \\uc218 \\uc5c6\\uc744 \\uac83\\\"\\uc774\\ub77c\\uace0 \\uacbd\\uace0\\ud588\\ub2e4.MBK\\u00b7\\uc601\\ud48d\\uc740 \\\"\\ud5a5\\ud6c4 \\uc190\\ud574\\ubc30\\uc0c1 \\uccad\\uad6c, \\uc5c5\\ubb34\\uc0c1 \\ubc30\\uc784 \\ub4f1 \\ubcf8\\uc548 \\uc18c\\uc1a1\\uc744 \\ud1b5\\ud574 \\uace0\\ub824\\uc544\\uc5f0 \\uacbd\\uc601\\uc9c4\\uc5d0 \\ub300\\ud574 \\uc790\\uc0ac\\uc8fc \\uacf5\\uac1c\\ub9e4\\uc218 \\ud589\\uc704\\uc5d0 \\ub300\\ud55c \\ucc45\\uc784\\uc744 \\ub05d\\uae4c\\uc9c0 \\ubb3c\\uc744 \\uacc4\\ud68d\\\"\\uc774\\ub77c\\uace0 \\ubc1b\\uc544\\ucce4\\ub2e4.[\\uc624\\ub300\\uc11d \\uae30\\uc790 / \\uc870\\uc724\\ud76c \\uae30\\uc790 / \\uac15\\ubbfc\\uc6b0 \\uae30\\uc790]\\n\\n\",\n          \"\\n\\n\\n\\n\\n\\n[\\uc5f0\\ud569\\ub274\\uc2a4TV \\uc81c\\uacf5] [\\ud30c\\uc774\\ub0b8\\uc15c\\ub274\\uc2a4] \\uc804\\ub0a0 \\uc5ed\\ub300 \\ucd5c\\ub300 \\uaddc\\ubaa8 \\uc2e4\\uc801\\uacfc \\uae30\\uc5c5\\uac00\\uce58 \\uc81c\\uace0\\uacc4\\ud68d\\uc744 \\ubc1c\\ud45c\\ud55c KB\\uae08\\uc735\\uc774 8%\\ub300 \\uc0c1\\uc2b9 \\ub9c8\\uac10\\ud588\\ub2e4. \\uc99d\\uad8c\\uac00\\uc5d0\\uc11c\\ub294 KB\\uae08\\uc735\\uc774 \\uc804\\ud5a5\\uc801 \\uc8fc\\uc8fc\\ud658\\uc6d0 \\uc815\\ucc45\\uc744 \\ub0b4\\ub193\\uc740 \\uac83\\uc5d0 \\ud638\\ud3c9\\uc744 \\ubcf4\\ub0c8\\ub2e4. 25\\uc77c \\ud55c\\uad6d\\uac70\\ub798\\uc18c\\uc5d0 \\ub530\\ub974\\uba74 KB\\uae08\\uc735\\uc740 \\uc804 \\uac70\\ub798\\uc77c \\ub300\\ube44 8.15% \\uc624\\ub978 10\\ub9cc800\\uc6d0\\uc5d0 \\uac70\\ub798\\ub97c \\ub9c8\\ucce4\\ub2e4. \\uc7a5\\uc911 10\\ub9cc3900\\uc6d0\\uae4c\\uc9c0 \\uc624\\ub974\\uba74\\uc11c 52\\uc8fc \\uc2e0\\uace0\\uac00\\ub97c \\ud130\\uce58\\ud588\\ub2e4.   KB\\uae08\\uc735 \\uc0c1\\uc2b9\\uc138\\ub294 \\uc804\\ub0a0 \\ucd5c\\ub300 \\uaddc\\ubaa8 \\uc2e4\\uc801\\uacfc \\uae30\\uc5c5\\uac00\\uce58 \\uc81c\\uace0\\uacc4\\ud68d\\uc744 \\ubc1c\\ud45c\\ud55c \\uc601\\ud5a5\\uc774\\ub2e4. \\uc804\\ub0a0 KB\\uae08\\uc735\\uadf8\\ub8f9\\uc740 3\\u00b74\\ubd84\\uae30 \\ub2f9\\uae30\\uc21c\\uc774\\uc775\\uc774 1\\uc8706140\\uc5b5\\uc6d0\\uc73c\\ub85c \\ucc3d\\ub9bd \\uc774\\ub798 \\ucd5c\\ub300 \\uaddc\\ubaa8 \\uc2e4\\uc801\\uc744 \\ub0c8\\ub2e4\\uace0 \\ubc1c\\ud45c\\ud588\\ub2e4. \\uc62c\\ud574 3\\u00b74\\ubd84\\uae30\\uae4c\\uc9c0 \\ub204\\uc801 \\uc21c\\uc774\\uc775\\uc740 4\\uc8703953\\uc5b5\\uc6d0\\uc73c\\ub85c \\uc5ed\\uc2dc \\uc5ed\\ub300 \\ucd5c\\ub300 \\uaddc\\ubaa8\\ub2e4.   \\uc99d\\uad8c\\uac00\\uc5d0\\uc11c\\ub294 KB\\uae08\\uc735\\uc774 \\uc120\\uc9c4\\uc801\\uc778 \\uc8fc\\uc8fc\\ud658\\uc6d0\\uc815\\ucc45\\uc744 \\ubc1c\\ud45c\\ud588\\ub2e4\\uba70 \\ud638\\ud3c9\\uc744 \\uc3df\\uc544\\ub0c8\\ub2e4. \\uc99d\\uad8c\\uc0ac 9\\uacf3\\uc774 \\uc774\\ub0a0 KB\\uae08\\uc735\\uc758 \\ubaa9\\ud45c\\uc8fc\\uac00\\ub97c \\ub192\\uc5ec\\uc7a1\\uc558\\ub2e4.   KB\\uae08\\uc735\\uc740 \\u25b3\\uc5f0\\ub9d0 \\ubcf4\\ud1b5\\uc8fc\\uc790\\ubcf8\\ube44\\uc728(CET1)\\ube44\\uc728 13%\\ub97c \\ucd08\\uacfc\\ud558\\ub294 \\uc789\\uc5ec\\uc790\\ubcf8\\uc744 \\ub2e4\\uc74c\\ub144\\ub3c4\\uc5d0 \\ud658\\uc6d0\\ud558\\uace0 \\u25b3\\uadf8\\ub7fc\\uc5d0\\ub3c4 \\uc5f0\\uc911(\\uc0c1\\ubc18\\uae30 \\ub9d0 \\uc608\\uc0c1) CET1 \\ube44\\uc728\\uc774 13.5%\\ub97c \\ucd08\\uacfc\\ud560 \\uacbd\\uc6b0 \\uadf8 \\ucd08\\uacfc\\uc790\\ubcf8\\uc744 \\ud558\\ubc18\\uae30 \\uc790\\uc0ac\\uc8fc \\uc7ac\\uc6d0\\uc73c\\ub85c \\ud65c\\uc6a9\\ud55c\\ub2e4\\ub294 \\ub450 \\uac00\\uc9c0 \\uc8fc\\uc8fc\\ud658\\uc6d0\\uc815\\ucc45\\uc744 \\ub0b4\\ub1a8\\ub2e4. \\ud5a5\\ud6c4 \\uc5f0\\uac04 \\ud658\\uc6d0 \\uaddc\\ubaa8\\ub294 \\uc774\\uc775\\ubcf4\\ub2e4 \\uc704\\ud5d8\\uac00\\uc911\\uc790\\uc0b0(RWA)\\uc5d0 \\uc5f0\\ub3d9\\ub420 \\uc804\\ub9dd\\uc774\\ub2e4.   \\ub610 \\uc18c\\uac01 \\ub300\\uc0c1 \\uc790\\uc0ac\\uc8fc 1000\\uc5b5\\uc6d0 \\ub9e4\\uc785\\uc744 \\ucd94\\uac00\\ub85c \\ubc1c\\ud45c\\ud558\\uba74\\uc11c, \\uc62c\\ud574 \\uc8fc\\uc8fc\\ud658\\uc6d0\\uc740 2\\uc8705000\\uc5b5\\uc6d0\\ub300\\uc758 \\ud658\\uc6d0\\uc774 \\uac00\\ub2a5\\ud560 \\uc804\\ub9dd\\uc774\\ub2e4. \\uc774\\ubc16\\uc5d0 KB\\uae08\\uc735\\uc740 \\uc774\\uc775\\uc218\\uc775\\ub960\\uc774 \\uc790\\uae30\\uc790\\ubcf8\\uc774\\uc775\\ub960(ROE)\\uc744 \\uc6c3\\ub3c4\\ub294 \\uad6c\\uac04\\uc5d0\\uc11c \\uc9c0\\uc18d\\uc801\\uc73c\\ub85c \\uc790\\uc0ac\\uc8fc\\ub97c \\ub9e4\\uc785\\ud558\\ub294 \\ud55c\\ud3b8, \\ud604\\uae08\\ubc30\\ub2f9\\uc740 \\ubc30\\ub2f9\\uc218\\uc775\\ub960\\uacfc \\uc2dc\\uc7a5\\uae08\\ub9ac\\ub97c \\uac10\\uc548\\ud574 \\uc810\\uc9c4\\uc801\\uc73c\\ub85c \\ud655\\ub300\\ud558\\uaca0\\ub2e4\\uace0 \\ubc1d\\ud614\\ub2e4.   \\uc99d\\uad8c\\uac00\\uc5d0\\uc11c\\ub294 \\ud5a5\\ud6c4 KB\\uae08\\uc735\\uc758 \\uc8fc\\uc8fc\\ud658\\uc6d0\\uc815\\ucc45 \\uad00\\uac74\\uc740 RWA \\uad00\\ub9ac, \\ube44\\uc774\\uc790\\uc774\\uc775 \\ud655\\ub300, \\uc790\\ubcf8 \\ubcc0\\ub3d9 \\uc694\\uc778 \\uad00\\ub9ac \\ub2a5\\ub825\\uc5d0 \\ub2ec\\ub838\\ub2e4\\uace0 \\ub0b4\\ub2e4\\ubd24\\ub2e4. \\uae40\\ub3c4\\ud558 \\ud55c\\ud654\\ud22c\\uc790\\uc99d\\uad8c \\uc5f0\\uad6c\\uc6d0\\uc740 \\\"\\uc8fc\\uc8fc\\ud658\\uc6d0 \\uaddc\\ubaa8\\uac00 RWA\\uc5d0 \\ubbfc\\uac10\\ud558\\uac8c \\uc5f0\\ub3d9\\ub418\\ubbc0\\ub85c \\uc8fc\\uc694\\ud55c \\ud575\\uc2ec \\uacfc\\uc81c\\uac00 \\ub420 \\uc804\\ub9dd\\\"\\uc774\\ub77c\\uba70 \\\"\\ube44\\uc774\\uc790\\uc774\\uc775, \\ud2b9\\ud788 \\uc218\\uc218\\ub8cc\\uc774\\uc775\\uc740 RWA\\ub97c \\ub298\\ub9ac\\uc9c0 \\uc54a\\uc73c\\uba74\\uc11c CET1\\uc744 \\uc99d\\uac00\\uc2dc\\ud0a4\\ub294 \\ud6a8\\uc728\\uc801\\uc778 \\uc218\\uc775\\uc6d0\\uc774\\ubbc0\\ub85c \\uc774\\ub97c \\ud1b5\\ud55c \\uc774\\uc775 \\uc99d\\ub300\\ub294 \\ud658\\uc6d0 \\uaddc\\ubaa8 \\uc99d\\uac00\\ub85c \\uc9c1\\uacb0\\ub420 \\uc804\\ub9dd\\\"\\uc774\\ub77c\\uace0 \\uc124\\uba85\\ud588\\ub2e4.   \\uc124\\uc6a9\\uc9c4 SK\\uc99d\\uad8c \\uc5f0\\uad6c\\uc6d0\\ub3c4 \\\"RWA \\uc99d\\uac00\\uc728\\uc774 1%\\ud3ec\\uc778\\ud2b8\\uc529 \\uac10\\uc18c\\ud560 \\ub54c\\ub9c8\\ub2e4 \\uc774\\ub860\\uc0c1 \\ucd1d\\uc8fc\\uc8fc\\ud658\\uc6d0\\uc728\\uc740 \\uc57d 7.8%\\ud3ec\\uc778\\ud2b8\\uc529 \\uc99d\\uac00\\ud560 \\uc804\\ub9dd\\\"\\uc774\\ub77c\\uba70 \\\"\\uc804\\ubc18\\uc801\\uc778 \\uc2dc\\uc7a5 \\ud658\\uacbd, \\uaddc\\uc81c \\ub3d9\\ud5a5 \\ub4f1 \\ubcc0\\ub3d9\\uc131\\uc5d0 \\ub300\\ud55c \\uace0\\ub824\\ub294 \\ud544\\uc694\\ud558\\uaca0\\uc9c0\\ub9cc KB\\uae08\\uc735\\uc774 \\uc801\\uadf9\\uc801\\uc73c\\ub85c \\ud004\\ub9ac\\ud2f0 \\uc911\\uc2ec\\uc758 RWA\\ub97c \\uad00\\ub9ac\\ud560 \\uacbd\\uc6b0 50%\\ub97c \\ucd08\\uacfc\\ud558\\ub294 \\uc8fc\\uc8fc\\ud658\\uc6d0\\uc728\\ub3c4 \\uae30\\ub300\\ud574\\ubcfc \\uc218 \\uc788\\ub2e4\\uace0 \\ubcf8\\ub2e4\\\"\\uace0 \\ub9d0\\ud588\\ub2e4.   LS\\uc99d\\uad8c, \\ud55c\\ud654\\ud22c\\uc790\\uc99d\\uad8c \\ub4f1\\uc740 KB\\uae08\\uc735\\uc744 \\ucd5c\\uc120\\ud638\\uc8fc\\ub85c \\uaf3d\\uc558\\ub2e4. \\uc804\\ubc30\\uc2b9 LS\\uc99d\\uad8c \\uc5f0\\uad6c\\uc6d0\\uc740 \\\"\\ubcf4\\ub2e4 \\uba85\\ud655\\ud574\\uc9c4 \\uc8fc\\uc8fc\\ud658\\uc6d0 \\uc815\\ucc45\\uc744 \\uae0d\\uc815\\uc801\\uc73c\\ub85c \\ud3c9\\uac00\\ud55c\\ub2e4\\\"\\uba70 \\\"\\uc774\\uc775 \\ucc3d\\ucd9c \\uc5ed\\ub7c9\\uacfc \\uc8fc\\uc8fc\\ud658\\uc6d0 \\uad00\\uc810\\uc5d0\\uc11c \\uc5c5\\uc885 \\ub0b4 \\uc120\\ub3c4\\uc801 \\uc9c0\\uc704\\uac00 \\uc9c0\\uc18d \\uac15\\ud654\\ub420 \\uac83\\\"\\uc774\\ub77c\\uace0 \\uc804\\ub9dd\\ud588\\ub2e4. #KB\\uae08\\uc735 # #\\ubc38\\ub958\\uc5c5  \\n\\n\",\n          \"\\n\\n\\ud648\\uc13c\\ud0c0\\ud640\\ub529\\uc2a4 '\\ubc30\\ub2f9 \\ubb34\\ud6a8' \\uacf5\\uc2dc\\ucd5c\\uadfc \\ubb34\\uc0c1\\uac10\\uc790\\uae4c\\uc9c0... \\uc8fc\\uc8fc \\ubd84\\ub178\\n\\n\\n\\n\\ubc15\\ubcd1\\uc900 \\ud648\\uc13c\\ud0c0\\ud640\\ub529\\uc2a4 \\ud68c\\uc7a5. \\ud55c\\uad6d\\uc77c\\ubcf4 \\uc790\\ub8cc\\uc0ac\\uc9c4\\ud55c \\uc0c1\\uc7a5\\uc0ac\\uac00 \\ud604\\uae08\\ubc30\\ub2f9 \\ubb34\\ud6a8 \\uacb0\\uc815\\uc744 \\uacf5\\uc2dc\\ud574 \\ub17c\\ub780\\uc774 \\uc77c\\uace0 \\uc788\\ub2e4. \\ubc30\\ub2f9 \\ubb34\\ud6a8\\ub77c\\uace0 \\ubc1d\\ud78c \\uae08\\uc561\\uc740 3\\ub144\\uac04 38\\uc5b5 \\uc6d0\\uc5d0 \\ub2ec\\ud55c\\ub2e4.24\\uc77c \\uae08\\uc735\\ud22c\\uc790\\uc5c5\\uacc4\\uc5d0 \\ub530\\ub974\\uba74, \\ucf54\\uc2a4\\ud53c \\uc0c1\\uc7a5\\uc0ac \\ud648\\uc13c\\ud0c0\\ud640\\ub529\\uc2a4\\ub294 18\\uc77c '\\ud604\\uae08\\ubc30\\ub2f9 \\uacb0\\uc815 \\uc815\\uc815(\\ubc30\\ub2f9 \\ubb34\\ud6a8)' \\uacf5\\uc2dc\\ub97c \\ud1b5\\ud574 \\\"\\ub2f9\\uc0ac\\uac00 2022\\ub144 12\\uc6d4 16\\uc77c, 2023\\ub144 10\\uc6d4 10\\uc77c, 2024\\ub144 3\\uc6d4 8\\uc77c \\uacf5\\uc2dc\\ud588\\ub358 \\ud604\\uae08\\ubc30\\ub2f9 \\uacb0\\uc815\\uc744 \\uc815\\uc815\\ud558\\uae30\\ub85c \\uacb0\\uc758\\ud588\\ub2e4\\\"\\uace0 \\ubc1d\\ud614\\ub2e4. \\ud648\\uc13c\\ud0c0\\ud640\\ub529\\uc2a4\\ub294 \\ud574\\ub2f9 \\uae30\\uac04 \\uc8fc\\ub2f9 10\\uc6d0\\uc529 \\uc5f0\\uac04 \\ucd1d 12\\uc5b56,940\\ub9cc80\\uc6d0\\uc758 \\ubc30\\ub2f9\\uae08\\uc744 \\uc9c0\\uae09\\ud588\\ub2e4. \\uacc4\\uc0b0\\ud558\\uba74 \\uc774\\ubc88\\uc5d0 \\ub3cc\\ub824\\ubc1b\\uaca0\\ub2e4\\uace0 \\uacf5\\uc2dc\\ud55c \\uae08\\uc561\\uc740 \\ucd1d 38\\uc5b5820\\ub9cc240\\uc6d0\\uc774\\ub2e4.\\uacc4\\uc0b0 \\ucc29\\uc624\\uac00 \\uc788\\uc5c8\\ub2e4\\ub294 \\uc124\\uba85\\uc774\\ub2e4. \\ud648\\uc13c\\ud0c0\\ud640\\ub529\\uc2a4 \\uce21\\uc740 \\\"\\uc0c1\\ubc95\\uc0c1 \\ubc30\\ub2f9\\uac00\\ub2a5\\uc774\\uc775\\uc744 \\uc0b0\\uc815\\ud558\\ub294 \\uacfc\\uc815\\uc5d0\\uc11c \\uacb0\\uc190\\uae08\\uc744 \\ucda9\\ub2f9\\ud558\\ub294 \\ubc29\\ubc95\\uc0c1\\uc758 \\ucc29\\uc624\\uac00 \\ubc1c\\uacac\\ub410\\ub2e4\\\"\\uba70 \\\"\\uc0c1\\ubc95 \\ubc0f \\uae30\\uc5c5\\ud68c\\uacc4 \\uae30\\uc900\\uc5d0 \\uc758\\ud574 \\ubc30\\ub2f9 \\ub2f9\\uc2dc \\ubc30\\ub2f9 \\uac00\\ub2a5\\uc774\\uc775\\uc744 \\ub2e4\\uc2dc \\uacc4\\uc0b0\\ud55c \\uacb0\\uacfc \\ubc30\\ub2f9\\uac00\\ub2a5\\uc774\\uc775\\uc774 \\uc874\\uc7ac\\ud558\\uc9c0 \\uc54a\\ub294\\ub2e4\\\"\\uace0 \\ubc1d\\ud614\\ub2e4. \\uc774\\ub840\\uc801\\uc778 \\ubc30\\ub2f9 \\ud68c\\uc218\\uc5d0 \\uc8fc\\uc8fc\\ub4e4\\uc740 \\ubd84\\uac1c\\ud558\\uace0 \\uc788\\ub2e4. \\uc628\\ub77c\\uc778 \\uc885\\ubaa9 \\ud1a0\\ub860\\ubc29\\uc758 \\ud55c \\uc774\\uc6a9\\uc790\\ub294 \\\"\\ubc30\\ub2f9\\uae08 \\ud658\\uc218\\ubcf4\\ub2e4 \\uc2ec\\uac01\\ud55c \\uac83\\uc740 \\uacb0\\uc0b0 \\uc774\\uc775\\uc774 \\uc624\\ub958 \\ub09c \\uac83\\ub3c4 \\ubaa8\\ub974\\uace0 \\ud5c8\\uc704\\ub85c \\uacf5\\uc2dc\\ud55c \\uac83\\\"\\uc774\\ub77c\\uba70 \\\"\\uc774\\uac83\\ub3c4 \\ubd84\\uc2dd\\ud68c\\uacc4\\ub2e4. \\ud615\\uc0ac\\ucc98\\ubc8c\\ud574\\uc57c \\ud55c\\ub2e4\\\"\\uace0 \\uc8fc\\uc7a5\\ud588\\ub2e4. \\ucd5c\\uadfc \\ud648\\uc13c\\ud0c0\\ud640\\ub529\\uc2a4\\uac00 \\ubb34\\uc0c1\\uac10\\uc790\\uc5d0 \\ub098\\uc120 \\uc0ac\\uc2e4\\uc744 \\uadfc\\uac70\\ub85c \\uc758\\ub3c4\\uc801\\uc73c\\ub85c \\uc8fc\\uc8fc \\uad8c\\uc775\\uc5d0 \\uc5ed\\ud589\\ud55c\\ub2e4\\ub294 \\uc8fc\\uc7a5\\ub3c4 \\ub098\\uc654\\ub2e4. \\ud648\\uc13c\\ud0c0\\ud640\\ub529\\uc2a4 \\uc8fc\\uac00\\ub3c4 \\ud3ed\\ub77d\\ud55c \\uc0c1\\ud0dc\\ub2e4. \\uc8fc\\ub2f9 \\uc561\\uba74\\uac00\\ub97c 500\\uc6d0\\uc5d0\\uc11c 100\\uc6d0\\uc73c\\ub85c 80% \\uac10\\uc561\\ud558\\ub294 \\ubb34\\uc0c1\\uac10\\uc790\\ub97c \\uc2e4\\uc2dc\\ud55c 15\\uc77c \\uc8fc\\uac00\\ub294 18.9% \\uae09\\ub77d\\ud588\\uace0, \\uc774\\ub0a0\\ub3c4 \\uc804\\uc7a5\\ubcf4\\ub2e4 5.0% \\ub0b4\\ub9b0 745\\uc6d0\\uc5d0 \\uc7a5\\uc744 \\ub9c8\\ucce4\\ub2e4.\\n\\n\"\n        ],\n        \"semantic_type\": \"\",\n        \"description\": \"\"\n      }\n    },\n    {\n      \"column\": \"\\ub0a0\\uc9dc\",\n      \"properties\": {\n        \"dtype\": \"object\",\n        \"num_unique_values\": 197,\n        \"samples\": [\n          \"2024-10-18 21:11:08\",\n          \"2024-10-20 18:41:12\",\n          \"2024-10-25 17:14:36\"\n        ],\n        \"semantic_type\": \"\",\n        \"description\": \"\"\n      }\n    }\n  ]\n}"
            }
          },
          "metadata": {},
          "execution_count": 72
        }
      ]
    },
    {
      "cell_type": "markdown",
      "source": [],
      "metadata": {
        "id": "ibmlkIATlw3_"
      }
    },
    {
      "cell_type": "markdown",
      "source": [
        "# 교수님 코드"
      ],
      "metadata": {
        "id": "0XAX5eQZlwsR"
      }
    },
    {
      "cell_type": "markdown",
      "source": [
        "# 개요\n",
        "- 네이버 증권 `뉴스` 탭의 3일치 기사를 수집하여 데이터 프레임으로 생성하고 파일로 저장\n",
        "- 사이트 주소: https://finance.naver.com/news/mainnews.naver?date=2024-10-25"
      ],
      "metadata": {
        "id": "3QjV1TZnl4-5"
      }
    },
    {
      "cell_type": "markdown",
      "source": [
        "# 신문기사 목록 불러오기"
      ],
      "metadata": {
        "id": "p8LrX9mzl7wC"
      }
    },
    {
      "cell_type": "code",
      "source": [
        "import pandas as pd\n",
        "import requests\n",
        "from bs4 import BeautifulSoup\n",
        "\n",
        "url = 'https://finance.naver.com/news/mainnews.naver?date=2024-10-25'\n",
        "response = requests.get(url)\n",
        "soup = BeautifulSoup(response.text, 'lxml')"
      ],
      "metadata": {
        "id": "1HlJBN9Cl2G0"
      },
      "execution_count": null,
      "outputs": []
    },
    {
      "cell_type": "markdown",
      "source": [
        "\n",
        "- 데이터 프레임 구조  \n",
        "    - **기사제목**:  `<dd class=\"articleSubject\">`안에   텍스트  \n",
        "    - **본문 URL**: `<dd class=\"articleSubject\">`   안에 `<a>` 태그  \n",
        "    - **기사 본문**: `<div id=\"newsct_article\"   class=\"newsct_article _article_body\">`  \n",
        "    - **날짜**: URL에서 가져오기"
      ],
      "metadata": {
        "id": "fwwixzM3l_eH"
      }
    },
    {
      "cell_type": "code",
      "source": [
        "# 기사제목 리스트 가져오기\n",
        "titles = soup.find_all('dd', {'class':'articleSubject'})\n",
        "titles[0]"
      ],
      "metadata": {
        "id": "-xX9xKACmAeu"
      },
      "execution_count": null,
      "outputs": []
    },
    {
      "cell_type": "code",
      "source": [
        "# 첫번째 기사의 기사 제목\n",
        "titles[0].text.strip()"
      ],
      "metadata": {
        "id": "SRC_3B4jmJA_"
      },
      "execution_count": null,
      "outputs": []
    },
    {
      "cell_type": "markdown",
      "source": [
        "# 상세 뉴스 본문 읽어오기"
      ],
      "metadata": {
        "id": "CDRmi5e8mKjd"
      }
    },
    {
      "cell_type": "markdown",
      "source": [
        "## 상세 뉴스 URL 읽어오기"
      ],
      "metadata": {
        "id": "9O2q_o38mMd5"
      }
    },
    {
      "cell_type": "code",
      "source": [
        "# 첫번째 기사의 상세페이지 URL\n",
        "titles[0].find('a').get('href')"
      ],
      "metadata": {
        "id": "yTuw_kI6mOxW"
      },
      "execution_count": null,
      "outputs": []
    },
    {
      "cell_type": "code",
      "source": [
        "news_url = 'https://finance.naver.com' + titles[0].find('a').get('href')\n",
        "news_url"
      ],
      "metadata": {
        "id": "1phGMFPnmRJe"
      },
      "execution_count": null,
      "outputs": []
    },
    {
      "cell_type": "code",
      "source": [
        "# 상세 뉴스페이지\n",
        "news_response = requests.get(news_url)\n",
        "\n",
        "news_soup = BeautifulSoup(news_response.text, 'lxml')\n",
        "news_soup"
      ],
      "metadata": {
        "id": "cAODgoNDmTx_"
      },
      "execution_count": null,
      "outputs": []
    },
    {
      "cell_type": "code",
      "source": [
        "news_url2 = news_soup.find('script').text.split(\"'\")[1]"
      ],
      "metadata": {
        "id": "5fxgNF2YmVLW"
      },
      "execution_count": null,
      "outputs": []
    },
    {
      "cell_type": "markdown",
      "source": [
        "## 상세 뉴스 페이지 읽어오기"
      ],
      "metadata": {
        "id": "xCkgZW90mQjL"
      }
    },
    {
      "cell_type": "code",
      "source": [
        "# 상세 뉴스페이지 재도전\n",
        "news_response2 = requests.get(news_url2)\n",
        "\n",
        "news_soup = BeautifulSoup(news_response2.text, 'lxml')\n",
        "news_soup"
      ],
      "metadata": {
        "id": "XrmsDZeCmYQk"
      },
      "execution_count": null,
      "outputs": []
    },
    {
      "cell_type": "markdown",
      "source": [
        "## 상세 뉴스 페이지 본문 파싱하기"
      ],
      "metadata": {
        "id": "oE4rDyN0maJs"
      }
    },
    {
      "cell_type": "code",
      "source": [
        "# 뉴스 본문\n",
        "# 기사 본문: <div id=\"newsct_article\" class=\"newsct_article _article_body\">\n",
        "news_soup.find('div', {'class':'newsct_article _article_body'}).text.strip()"
      ],
      "metadata": {
        "id": "Rbvxi7smmdVo"
      },
      "execution_count": null,
      "outputs": []
    },
    {
      "cell_type": "markdown",
      "source": [
        "# 반복문 사용하여 함수로 생성하기"
      ],
      "metadata": {
        "id": "8LBzAmjDmeO7"
      }
    },
    {
      "cell_type": "code",
      "source": [
        "import datetime\n",
        "import time"
      ],
      "metadata": {
        "id": "_F8OeCXuxD6a"
      },
      "execution_count": null,
      "outputs": []
    },
    {
      "cell_type": "code",
      "source": [
        "def get_news_items(html):\n",
        "  # 기사제목 리스트 가져오기\n",
        "  titles = html.find_all('dd', {'class':'articleSubject'})\n",
        "  title_list = []\n",
        "  url_list = []\n",
        "  article_list = []\n",
        "\n",
        "  for t in titles:\n",
        "    # 기사의 제목\n",
        "    title = t.text.strip()\n",
        "\n",
        "    # 기사의 상세페이지 URL\n",
        "    news_url = 'https://finance.naver.com' + t.find('a').get('href')\n",
        "\n",
        "    # 상세페이지 request\n",
        "    news_response = requests.get(news_url)\n",
        "    news_soup = BeautifulSoup(news_response.text, 'lxml')\n",
        "\n",
        "    # 리다이렉트 주소를 파싱\n",
        "    news_url2 = news_soup.find('script').text.split(\"'\")[1]\n",
        "\n",
        "    # 상세 뉴스페이지 request 재도전\n",
        "    news_response2 = requests.get(news_url2)\n",
        "    news_soup = BeautifulSoup(news_response2.text, 'lxml')\n",
        "\n",
        "    # 신문기사 본문 파싱\n",
        "    article = news_soup.find('div', {'class':'newsct_article _article_body'}).text.strip()\n",
        "\n",
        "    # 리스트에 값 채우기\n",
        "    title_list.append(title)\n",
        "    url_list.append(news_url2)\n",
        "    article_list.append(article)\n",
        "\n",
        "  df = pd.DataFrame({'기사제목': title_list, '본문url': url_list, '기사본문': article_list})\n",
        "  return df"
      ],
      "metadata": {
        "id": "2lsrDRqQmgdL"
      },
      "execution_count": null,
      "outputs": []
    },
    {
      "cell_type": "code",
      "source": [
        "news_df = pd.DataFrame()\n",
        "\n",
        "for i in range(3):\n",
        "    # 오늘 날짜 기준 i일 이전 날짜 구하기\n",
        "    date= datetime.date.today() - datetime.timedelta(days = i)\n",
        "    url = f'https://finance.naver.com/news/mainnews.naver?date={date}'\n",
        "    response = requests.get(url)\n",
        "    soup = BeautifulSoup(response.text, 'lxml')\n",
        "    time.sleep(1)\n",
        "\n",
        "    # 해당일 신문기사 스크랩 데이터프레임 반환\n",
        "    temp_df = get_news_items(soup)\n",
        "    temp_df['date'] = date\n",
        "    news_df = pd.concat([news_df, temp_df], ignore_index=True).copy()"
      ],
      "metadata": {
        "id": "3GCQ9XmUxIJ1"
      },
      "execution_count": null,
      "outputs": []
    },
    {
      "cell_type": "code",
      "source": [
        "news_df.to_csv('article.csv')"
      ],
      "metadata": {
        "id": "cLeu5_emxKvx"
      },
      "execution_count": null,
      "outputs": []
    }
  ]
}