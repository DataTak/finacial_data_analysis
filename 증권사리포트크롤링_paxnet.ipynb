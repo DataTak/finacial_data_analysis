{
  "nbformat": 4,
  "nbformat_minor": 0,
  "metadata": {
    "colab": {
      "provenance": [],
      "authorship_tag": "ABX9TyOvWcff0KjjOUsDl1xSPaNb",
      "include_colab_link": true
    },
    "kernelspec": {
      "name": "python3",
      "display_name": "Python 3"
    },
    "language_info": {
      "name": "python"
    }
  },
  "cells": [
    {
      "cell_type": "markdown",
      "metadata": {
        "id": "view-in-github",
        "colab_type": "text"
      },
      "source": [
        "<a href=\"https://colab.research.google.com/github/DataTak/finacial_data_analysis/blob/main/%EC%A6%9D%EA%B6%8C%EC%82%AC%EB%A6%AC%ED%8F%AC%ED%8A%B8%ED%81%AC%EB%A1%A4%EB%A7%81_paxnet.ipynb\" target=\"_parent\"><img src=\"https://colab.research.google.com/assets/colab-badge.svg\" alt=\"Open In Colab\"/></a>"
      ]
    },
    {
      "cell_type": "markdown",
      "source": [
        "# 증권사 리포트 크롤링\n",
        "- Paxnet의 증권사리포트의 종목리포트를 수집하여 데이터 프레임 생성.\n",
        "- 데이터 프레임을 `report.csv`로 저장하기"
      ],
      "metadata": {
        "id": "VTuiya0n7w8w"
      }
    },
    {
      "cell_type": "markdown",
      "source": [
        "- 증권사 리포트의 종목리포트 탭 <br>\n",
        "`https://www.paxnet.co.kr/stock/report/report?wlog_rpt=jm&menuCode=2222`\n",
        "    - 페이지네이션이 되어 있고, 페이지 변경시, currentPageNo가 변경됨.<br>\n",
        "    https://www.paxnet.co.kr/stock/report/report?menuCode=2222&currentPageNo=2&reportId=0&searchKey=stock&searchValue=\n",
        "- 데이터프레임의 구조 <br>\n",
        "종목명 / 제목 / 적정가격 / 투자의견 / 제공출처 / 작성일    \n"
      ],
      "metadata": {
        "id": "SUhMtSMc771V"
      }
    },
    {
      "cell_type": "code",
      "source": [
        "from bs4 import BeautifulSoup\n",
        "import requests\n",
        "import pandas as pd\n",
        "import time\n",
        "from datetime import datetime, timedelta\n"
      ],
      "metadata": {
        "id": "Ph1Q7Y1x8Xt-"
      },
      "execution_count": 1,
      "outputs": []
    },
    {
      "cell_type": "markdown",
      "source": [
        "## 증권사 리포트 목록 불러오기"
      ],
      "metadata": {
        "id": "0QboNg7W8niB"
      }
    },
    {
      "cell_type": "code",
      "source": [
        "url = 'https://www.paxnet.co.kr/stock/report/report?menuCode=2222&currentPageNo=1&reportId=0&searchKey=stock&searchValue='\n",
        "response = requests.get(url)"
      ],
      "metadata": {
        "id": "PneSLYdJ8htT"
      },
      "execution_count": 3,
      "outputs": []
    },
    {
      "cell_type": "code",
      "source": [
        "soup = BeautifulSoup(response.text, 'lxml')\n",
        "list_stocks = soup.find_all('li')"
      ],
      "metadata": {
        "id": "BV1TwZ7D85lp"
      },
      "execution_count": 26,
      "outputs": []
    },
    {
      "cell_type": "markdown",
      "source": [
        "- 데이터 프레임 구조\n",
        "    - 데이터 위치: `<li class='board-lish-th'>`"
      ],
      "metadata": {
        "id": "aX3MZOiA9DFM"
      }
    },
    {
      "cell_type": "markdown",
      "source": [
        "## 내용 파싱 및 데이터프레임으로 저장 함수"
      ],
      "metadata": {
        "id": "bAwjQPefBXfL"
      }
    },
    {
      "cell_type": "code",
      "source": [
        "def stock_info(soup):\n",
        "    data = []\n",
        "    # 모든 <li> 태그를 찾기\n",
        "    list_items = soup.find_all(\"li\")\n",
        "\n",
        "    for item in list_items:\n",
        "        try:\n",
        "            # 종목명\n",
        "            stock_name = item.find_all(\"div\")[0].text.strip()\n",
        "\n",
        "            # 제목\n",
        "            title = item.find_all(\"div\")[1].text.strip()\n",
        "\n",
        "            # 적정가격\n",
        "            price = item.find_all(\"div\")[2].text.strip().replace(\"적정가격\", \"\").strip()\n",
        "\n",
        "            # 투자의견\n",
        "            investment_opinion = item.find_all(\"div\")[3].text.strip()\n",
        "\n",
        "            # 제공출처\n",
        "            source = item.find_all(\"div\")[4].text.strip()\n",
        "\n",
        "            # 작성일\n",
        "            date = item.find_all(\"div\")[5].text.strip()\n",
        "\n",
        "            # 데이터 저장\n",
        "            data.append([stock_name, title, price, investment_opinion, source, date])\n",
        "\n",
        "        except IndexError:\n",
        "            # 데이터가 없는 경우 스킵\n",
        "            continue\n",
        "    df = pd.DataFrame(data, columns=[\"종목\", \"제목\", \"적정가격\", \"투자의견\", \"제공출처\", \"작성일\"])[1:]\n",
        "    df['종목'] = df['종목'].str.replace('[', '').str.replace(']', '')\n",
        "    return df"
      ],
      "metadata": {
        "id": "6ZTiRcrC-K-M"
      },
      "execution_count": 32,
      "outputs": []
    },
    {
      "cell_type": "markdown",
      "source": [
        "## 여러 페이지의 정보 가지고 오기"
      ],
      "metadata": {
        "id": "_CpsLB11B89p"
      }
    },
    {
      "cell_type": "code",
      "source": [
        "stock_data = pd.DataFrame(columns=[\"종목\", \"제목\", \"적정가격\", \"투자의견\", \"제공출처\", \"작성일\"])"
      ],
      "metadata": {
        "id": "suoi_RxtDJgv"
      },
      "execution_count": 40,
      "outputs": []
    },
    {
      "cell_type": "code",
      "source": [
        "for page in range(1, 10):  # 종료 페이지 설정하기\n",
        "    url = f'https://www.paxnet.co.kr/stock/report/report?menuCode=2222&currentPageNo={page}&reportId=0&searchKey=stock&searchValue='\n",
        "    response = requests.get(url)\n",
        "    soup = BeautifulSoup(response.text, 'lxml')\n",
        "    stock_data = pd.concat([stock_data, stock_info(soup)], ignore_index=True)\n",
        "    time.sleep(1)"
      ],
      "metadata": {
        "id": "lHjrHGdtBox1"
      },
      "execution_count": 41,
      "outputs": []
    },
    {
      "cell_type": "code",
      "source": [
        "stock_data.tail(1)"
      ],
      "metadata": {
        "colab": {
          "base_uri": "https://localhost:8080/",
          "height": 81
        },
        "id": "k854lgjtEBdf",
        "outputId": "b70db155-6e19-47cd-e346-e8f42a3184e8"
      },
      "execution_count": 42,
      "outputs": [
        {
          "output_type": "execute_result",
          "data": {
            "text/plain": [
              "        종목                     제목     적정가격 투자의견  제공출처         작성일\n",
              "269  LG이노텍  3Q 영업이익 부진, 밸류에이션에 초점  300000원   매수  대신증권  2024.09.24"
            ],
            "text/html": [
              "\n",
              "  <div id=\"df-4b9de46c-02b6-4024-988c-cdf3d2abea45\" class=\"colab-df-container\">\n",
              "    <div>\n",
              "<style scoped>\n",
              "    .dataframe tbody tr th:only-of-type {\n",
              "        vertical-align: middle;\n",
              "    }\n",
              "\n",
              "    .dataframe tbody tr th {\n",
              "        vertical-align: top;\n",
              "    }\n",
              "\n",
              "    .dataframe thead th {\n",
              "        text-align: right;\n",
              "    }\n",
              "</style>\n",
              "<table border=\"1\" class=\"dataframe\">\n",
              "  <thead>\n",
              "    <tr style=\"text-align: right;\">\n",
              "      <th></th>\n",
              "      <th>종목</th>\n",
              "      <th>제목</th>\n",
              "      <th>적정가격</th>\n",
              "      <th>투자의견</th>\n",
              "      <th>제공출처</th>\n",
              "      <th>작성일</th>\n",
              "    </tr>\n",
              "  </thead>\n",
              "  <tbody>\n",
              "    <tr>\n",
              "      <th>269</th>\n",
              "      <td>LG이노텍</td>\n",
              "      <td>3Q 영업이익 부진, 밸류에이션에 초점</td>\n",
              "      <td>300000원</td>\n",
              "      <td>매수</td>\n",
              "      <td>대신증권</td>\n",
              "      <td>2024.09.24</td>\n",
              "    </tr>\n",
              "  </tbody>\n",
              "</table>\n",
              "</div>\n",
              "    <div class=\"colab-df-buttons\">\n",
              "\n",
              "  <div class=\"colab-df-container\">\n",
              "    <button class=\"colab-df-convert\" onclick=\"convertToInteractive('df-4b9de46c-02b6-4024-988c-cdf3d2abea45')\"\n",
              "            title=\"Convert this dataframe to an interactive table.\"\n",
              "            style=\"display:none;\">\n",
              "\n",
              "  <svg xmlns=\"http://www.w3.org/2000/svg\" height=\"24px\" viewBox=\"0 -960 960 960\">\n",
              "    <path d=\"M120-120v-720h720v720H120Zm60-500h600v-160H180v160Zm220 220h160v-160H400v160Zm0 220h160v-160H400v160ZM180-400h160v-160H180v160Zm440 0h160v-160H620v160ZM180-180h160v-160H180v160Zm440 0h160v-160H620v160Z\"/>\n",
              "  </svg>\n",
              "    </button>\n",
              "\n",
              "  <style>\n",
              "    .colab-df-container {\n",
              "      display:flex;\n",
              "      gap: 12px;\n",
              "    }\n",
              "\n",
              "    .colab-df-convert {\n",
              "      background-color: #E8F0FE;\n",
              "      border: none;\n",
              "      border-radius: 50%;\n",
              "      cursor: pointer;\n",
              "      display: none;\n",
              "      fill: #1967D2;\n",
              "      height: 32px;\n",
              "      padding: 0 0 0 0;\n",
              "      width: 32px;\n",
              "    }\n",
              "\n",
              "    .colab-df-convert:hover {\n",
              "      background-color: #E2EBFA;\n",
              "      box-shadow: 0px 1px 2px rgba(60, 64, 67, 0.3), 0px 1px 3px 1px rgba(60, 64, 67, 0.15);\n",
              "      fill: #174EA6;\n",
              "    }\n",
              "\n",
              "    .colab-df-buttons div {\n",
              "      margin-bottom: 4px;\n",
              "    }\n",
              "\n",
              "    [theme=dark] .colab-df-convert {\n",
              "      background-color: #3B4455;\n",
              "      fill: #D2E3FC;\n",
              "    }\n",
              "\n",
              "    [theme=dark] .colab-df-convert:hover {\n",
              "      background-color: #434B5C;\n",
              "      box-shadow: 0px 1px 3px 1px rgba(0, 0, 0, 0.15);\n",
              "      filter: drop-shadow(0px 1px 2px rgba(0, 0, 0, 0.3));\n",
              "      fill: #FFFFFF;\n",
              "    }\n",
              "  </style>\n",
              "\n",
              "    <script>\n",
              "      const buttonEl =\n",
              "        document.querySelector('#df-4b9de46c-02b6-4024-988c-cdf3d2abea45 button.colab-df-convert');\n",
              "      buttonEl.style.display =\n",
              "        google.colab.kernel.accessAllowed ? 'block' : 'none';\n",
              "\n",
              "      async function convertToInteractive(key) {\n",
              "        const element = document.querySelector('#df-4b9de46c-02b6-4024-988c-cdf3d2abea45');\n",
              "        const dataTable =\n",
              "          await google.colab.kernel.invokeFunction('convertToInteractive',\n",
              "                                                    [key], {});\n",
              "        if (!dataTable) return;\n",
              "\n",
              "        const docLinkHtml = 'Like what you see? Visit the ' +\n",
              "          '<a target=\"_blank\" href=https://colab.research.google.com/notebooks/data_table.ipynb>data table notebook</a>'\n",
              "          + ' to learn more about interactive tables.';\n",
              "        element.innerHTML = '';\n",
              "        dataTable['output_type'] = 'display_data';\n",
              "        await google.colab.output.renderOutput(dataTable, element);\n",
              "        const docLink = document.createElement('div');\n",
              "        docLink.innerHTML = docLinkHtml;\n",
              "        element.appendChild(docLink);\n",
              "      }\n",
              "    </script>\n",
              "  </div>\n",
              "\n",
              "\n",
              "    </div>\n",
              "  </div>\n"
            ],
            "application/vnd.google.colaboratory.intrinsic+json": {
              "type": "dataframe",
              "repr_error": "0"
            }
          },
          "metadata": {},
          "execution_count": 42
        }
      ]
    },
    {
      "cell_type": "code",
      "source": [
        "stock_data.head(1)"
      ],
      "metadata": {
        "colab": {
          "base_uri": "https://localhost:8080/",
          "height": 81
        },
        "id": "-T6aMCpTEM4p",
        "outputId": "a41a4f95-8cfb-4b70-c05a-1167bee5ede7"
      },
      "execution_count": 43,
      "outputs": [
        {
          "output_type": "execute_result",
          "data": {
            "text/plain": [
              "    종목          제목     적정가격 투자의견  제공출처         작성일\n",
              "0  인탑스  로봇 EMS 기대감  30,000원   매수  LS증권  2024.10.28"
            ],
            "text/html": [
              "\n",
              "  <div id=\"df-6580d69c-d5c3-4c56-9f34-c276dfff4745\" class=\"colab-df-container\">\n",
              "    <div>\n",
              "<style scoped>\n",
              "    .dataframe tbody tr th:only-of-type {\n",
              "        vertical-align: middle;\n",
              "    }\n",
              "\n",
              "    .dataframe tbody tr th {\n",
              "        vertical-align: top;\n",
              "    }\n",
              "\n",
              "    .dataframe thead th {\n",
              "        text-align: right;\n",
              "    }\n",
              "</style>\n",
              "<table border=\"1\" class=\"dataframe\">\n",
              "  <thead>\n",
              "    <tr style=\"text-align: right;\">\n",
              "      <th></th>\n",
              "      <th>종목</th>\n",
              "      <th>제목</th>\n",
              "      <th>적정가격</th>\n",
              "      <th>투자의견</th>\n",
              "      <th>제공출처</th>\n",
              "      <th>작성일</th>\n",
              "    </tr>\n",
              "  </thead>\n",
              "  <tbody>\n",
              "    <tr>\n",
              "      <th>0</th>\n",
              "      <td>인탑스</td>\n",
              "      <td>로봇 EMS 기대감</td>\n",
              "      <td>30,000원</td>\n",
              "      <td>매수</td>\n",
              "      <td>LS증권</td>\n",
              "      <td>2024.10.28</td>\n",
              "    </tr>\n",
              "  </tbody>\n",
              "</table>\n",
              "</div>\n",
              "    <div class=\"colab-df-buttons\">\n",
              "\n",
              "  <div class=\"colab-df-container\">\n",
              "    <button class=\"colab-df-convert\" onclick=\"convertToInteractive('df-6580d69c-d5c3-4c56-9f34-c276dfff4745')\"\n",
              "            title=\"Convert this dataframe to an interactive table.\"\n",
              "            style=\"display:none;\">\n",
              "\n",
              "  <svg xmlns=\"http://www.w3.org/2000/svg\" height=\"24px\" viewBox=\"0 -960 960 960\">\n",
              "    <path d=\"M120-120v-720h720v720H120Zm60-500h600v-160H180v160Zm220 220h160v-160H400v160Zm0 220h160v-160H400v160ZM180-400h160v-160H180v160Zm440 0h160v-160H620v160ZM180-180h160v-160H180v160Zm440 0h160v-160H620v160Z\"/>\n",
              "  </svg>\n",
              "    </button>\n",
              "\n",
              "  <style>\n",
              "    .colab-df-container {\n",
              "      display:flex;\n",
              "      gap: 12px;\n",
              "    }\n",
              "\n",
              "    .colab-df-convert {\n",
              "      background-color: #E8F0FE;\n",
              "      border: none;\n",
              "      border-radius: 50%;\n",
              "      cursor: pointer;\n",
              "      display: none;\n",
              "      fill: #1967D2;\n",
              "      height: 32px;\n",
              "      padding: 0 0 0 0;\n",
              "      width: 32px;\n",
              "    }\n",
              "\n",
              "    .colab-df-convert:hover {\n",
              "      background-color: #E2EBFA;\n",
              "      box-shadow: 0px 1px 2px rgba(60, 64, 67, 0.3), 0px 1px 3px 1px rgba(60, 64, 67, 0.15);\n",
              "      fill: #174EA6;\n",
              "    }\n",
              "\n",
              "    .colab-df-buttons div {\n",
              "      margin-bottom: 4px;\n",
              "    }\n",
              "\n",
              "    [theme=dark] .colab-df-convert {\n",
              "      background-color: #3B4455;\n",
              "      fill: #D2E3FC;\n",
              "    }\n",
              "\n",
              "    [theme=dark] .colab-df-convert:hover {\n",
              "      background-color: #434B5C;\n",
              "      box-shadow: 0px 1px 3px 1px rgba(0, 0, 0, 0.15);\n",
              "      filter: drop-shadow(0px 1px 2px rgba(0, 0, 0, 0.3));\n",
              "      fill: #FFFFFF;\n",
              "    }\n",
              "  </style>\n",
              "\n",
              "    <script>\n",
              "      const buttonEl =\n",
              "        document.querySelector('#df-6580d69c-d5c3-4c56-9f34-c276dfff4745 button.colab-df-convert');\n",
              "      buttonEl.style.display =\n",
              "        google.colab.kernel.accessAllowed ? 'block' : 'none';\n",
              "\n",
              "      async function convertToInteractive(key) {\n",
              "        const element = document.querySelector('#df-6580d69c-d5c3-4c56-9f34-c276dfff4745');\n",
              "        const dataTable =\n",
              "          await google.colab.kernel.invokeFunction('convertToInteractive',\n",
              "                                                    [key], {});\n",
              "        if (!dataTable) return;\n",
              "\n",
              "        const docLinkHtml = 'Like what you see? Visit the ' +\n",
              "          '<a target=\"_blank\" href=https://colab.research.google.com/notebooks/data_table.ipynb>data table notebook</a>'\n",
              "          + ' to learn more about interactive tables.';\n",
              "        element.innerHTML = '';\n",
              "        dataTable['output_type'] = 'display_data';\n",
              "        await google.colab.output.renderOutput(dataTable, element);\n",
              "        const docLink = document.createElement('div');\n",
              "        docLink.innerHTML = docLinkHtml;\n",
              "        element.appendChild(docLink);\n",
              "      }\n",
              "    </script>\n",
              "  </div>\n",
              "\n",
              "\n",
              "    </div>\n",
              "  </div>\n"
            ],
            "application/vnd.google.colaboratory.intrinsic+json": {
              "type": "dataframe",
              "variable_name": "stock_data",
              "summary": "{\n  \"name\": \"stock_data\",\n  \"rows\": 270,\n  \"fields\": [\n    {\n      \"column\": \"\\uc885\\ubaa9\",\n      \"properties\": {\n        \"dtype\": \"string\",\n        \"num_unique_values\": 188,\n        \"samples\": [\n          \"\\uc0bc\\uc131\\uc99d\\uad8c\",\n          \"\\uc11c\\uc9c4\\uc2dc\\uc2a4\\ud15c\",\n          \"\\uc288\\ud504\\ub9ac\\ub9c8\"\n        ],\n        \"semantic_type\": \"\",\n        \"description\": \"\"\n      }\n    },\n    {\n      \"column\": \"\\uc81c\\ubaa9\",\n      \"properties\": {\n        \"dtype\": \"string\",\n        \"num_unique_values\": 259,\n        \"samples\": [\n          \"\\uacbd\\uc7c1 \\uc2ec\\ud654 \\ub9ac\\uc2a4\\ud06c \\ubd80\\uac01\",\n          \"3Q24 Preview: \\uc548\\uc815\\uc801\\uc778 \\uc774\\uc775 \\uc131\\uc7a5 \\uc9c0\\uc18d\",\n          \"\\uc77c\\ud68c\\uc131\\uc774 \\ub9ce\\uc558\\ub358 3\\ubd84\\uae30\"\n        ],\n        \"semantic_type\": \"\",\n        \"description\": \"\"\n      }\n    },\n    {\n      \"column\": \"\\uc801\\uc815\\uac00\\uaca9\",\n      \"properties\": {\n        \"dtype\": \"string\",\n        \"num_unique_values\": 154,\n        \"samples\": [\n          \"150,000\\uc6d0\",\n          \"470,000\\uc6d0\",\n          \"530000\\uc6d0\"\n        ],\n        \"semantic_type\": \"\",\n        \"description\": \"\"\n      }\n    },\n    {\n      \"column\": \"\\ud22c\\uc790\\uc758\\uacac\",\n      \"properties\": {\n        \"dtype\": \"category\",\n        \"num_unique_values\": 6,\n        \"samples\": [\n          \"\\ub9e4\\uc218\",\n          \"-\",\n          \"\\uc2dc\\uc7a5\\uc218\\uc775\\ub960\"\n        ],\n        \"semantic_type\": \"\",\n        \"description\": \"\"\n      }\n    },\n    {\n      \"column\": \"\\uc81c\\uacf5\\ucd9c\\ucc98\",\n      \"properties\": {\n        \"dtype\": \"category\",\n        \"num_unique_values\": 12,\n        \"samples\": [\n          \"iM\\uc99d\\uad8c\",\n          \"IBK\\ud22c\\uc790\\uc99d\\uad8c\",\n          \"LS\\uc99d\\uad8c\"\n        ],\n        \"semantic_type\": \"\",\n        \"description\": \"\"\n      }\n    },\n    {\n      \"column\": \"\\uc791\\uc131\\uc77c\",\n      \"properties\": {\n        \"dtype\": \"object\",\n        \"num_unique_values\": 21,\n        \"samples\": [\n          \"2024.10.28\",\n          \"2024.09.27\",\n          \"2024.10.02\"\n        ],\n        \"semantic_type\": \"\",\n        \"description\": \"\"\n      }\n    }\n  ]\n}"
            }
          },
          "metadata": {},
          "execution_count": 43
        }
      ]
    },
    {
      "cell_type": "code",
      "source": [
        "stock_data.to_csv('report.csv', index=False)"
      ],
      "metadata": {
        "id": "E_BycAbVEO3f"
      },
      "execution_count": 44,
      "outputs": []
    }
  ]
}